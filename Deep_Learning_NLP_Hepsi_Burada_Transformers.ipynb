{
  "cells": [
    {
      "cell_type": "markdown",
      "metadata": {
        "id": "view-in-github",
        "colab_type": "text"
      },
      "source": [
        "<a href=\"https://colab.research.google.com/github/ilhamimutlu/GitHub-Projects/blob/main/Deep_Learning_NLP_Hepsi_Burada_Transformers.ipynb\" target=\"_parent\"><img src=\"https://colab.research.google.com/assets/colab-badge.svg\" alt=\"Open In Colab\"/></a>"
      ]
    },
    {
      "cell_type": "markdown",
      "metadata": {
        "id": "982lfxLaIqBd"
      },
      "source": [
        "![image.png](attachment:image.png)"
      ]
    },
    {
      "cell_type": "code",
      "source": [
        "from google.colab import drive\n",
        "drive.mount('/content/drive')"
      ],
      "metadata": {
        "colab": {
          "base_uri": "https://localhost:8080/"
        },
        "id": "tBCWzH-UItf2",
        "outputId": "8b90d361-43e9-4170-8ef6-7d948864029c"
      },
      "execution_count": null,
      "outputs": [
        {
          "output_type": "stream",
          "name": "stdout",
          "text": [
            "Mounted at /content/drive\n"
          ]
        }
      ]
    },
    {
      "cell_type": "markdown",
      "metadata": {
        "id": "Z3hO1LT4m8xM"
      },
      "source": [
        "# Fine Tuning For BERT Models with TPU"
      ]
    },
    {
      "cell_type": "code",
      "source": [
        "# TensorFlow kütüphanesini içe aktar\n",
        "import tensorflow as tf\n",
        "# İşletim sistemi kütüphanesini içe aktar\n",
        "import os\n",
        "\n",
        "# Colab için özel bir adres olan tpu argümanını kullanarak TPUClusterResolver nesnesi oluştur\n",
        "# Bu nesne, uzak TPU kümesine bağlanmak için gerekli olan koordinatları sağlar\n",
        "resolver = tf.distribute.cluster_resolver.TPUClusterResolver(tpu='grpc://' + os.environ['COLAB_TPU_ADDR'])\n",
        "\n",
        "# TPU kümesine bağlanmak için tf.config modülünü kullan\n",
        "tf.config.experimental_connect_to_cluster(resolver)\n",
        "# TPU sistemini başlatmak için tf.tpu modülünü kullan\n",
        "# Bu adım, TPU cihazlarını yapılandırır ve bellekleri temizler\n",
        "tf.tpu.experimental.initialize_tpu_system(resolver)\n",
        "# TPU kümesindeki tüm cihazları listelemek için print fonksiyonunu kullan\n",
        "print(\"All devices: \", tf.config.list_logical_devices('TPU'))\n"
      ],
      "metadata": {
        "id": "hk8GJPA2T6tK"
      },
      "execution_count": null,
      "outputs": []
    },
    {
      "cell_type": "markdown",
      "metadata": {
        "id": "by16xDODIqBe"
      },
      "source": [
        "TPU' yu bir degiskene atadik, modelleri calistirirken bunun altinda fonksiyonlar olusturup bu fonksiyonlari calistiracagiz. (Degiskene atamazsak TPU' nun hizindan faydalanamayiz). Ciktida da gordugumuz gibi 8 tane TPU cekirdegi tahsis edilmis :"
      ]
    },
    {
      "cell_type": "code",
      "execution_count": null,
      "metadata": {
        "id": "iVPEsIFh4mpH"
      },
      "outputs": [],
      "source": [
        "strategy = tf.distribute.TPUStrategy(resolver)"
      ]
    },
    {
      "cell_type": "markdown",
      "metadata": {
        "id": "KwjqS75AeE-w"
      },
      "source": [
        "BERT' in hazir modellerini kullanabilmek icin transformers' i install etmek gerekir :"
      ]
    },
    {
      "cell_type": "markdown",
      "source": [
        "Transformers, doğal dil işleme (NLP) alanında kullanılan bir kütüphanedir. Transformers kütüphanesi, çeşitli dil modellerini içerir. Bu modellerden biri de BERT'tir. BERT, Bidirectional Encoder Representations from Transformers'ın kısaltmasıdır. BERT, etiketlenmemiş metinlerden derin çift yönlü temsiller öğrenmek için tasarlanmış bir dil modelidir¹. BERT, hem sol hem de sağ bağlama göre tüm katmanlarda ortaklaşa koşullanarak, arama sorgularını ve dil anlayışını geliştirmek için kullanılabilir². BERT, 2018 yılında Google tarafından geliştirilmiştir³."
      ],
      "metadata": {
        "id": "K5uPEe3WsYQf"
      }
    },
    {
      "cell_type": "code",
      "execution_count": null,
      "metadata": {
        "colab": {
          "base_uri": "https://localhost:8080/"
        },
        "id": "_skoAhjLmF0E",
        "outputId": "96682ed7-5744-44a8-8162-b7a1f28e0bfc"
      },
      "outputs": [
        {
          "output_type": "stream",
          "name": "stdout",
          "text": [
            "Requirement already satisfied: transformers in /usr/local/lib/python3.10/dist-packages (4.37.2)\n",
            "Requirement already satisfied: filelock in /usr/local/lib/python3.10/dist-packages (from transformers) (3.13.1)\n",
            "Requirement already satisfied: huggingface-hub<1.0,>=0.19.3 in /usr/local/lib/python3.10/dist-packages (from transformers) (0.20.3)\n",
            "Requirement already satisfied: numpy>=1.17 in /usr/local/lib/python3.10/dist-packages (from transformers) (1.23.5)\n",
            "Requirement already satisfied: packaging>=20.0 in /usr/local/lib/python3.10/dist-packages (from transformers) (23.2)\n",
            "Requirement already satisfied: pyyaml>=5.1 in /usr/local/lib/python3.10/dist-packages (from transformers) (6.0.1)\n",
            "Requirement already satisfied: regex!=2019.12.17 in /usr/local/lib/python3.10/dist-packages (from transformers) (2023.12.25)\n",
            "Requirement already satisfied: requests in /usr/local/lib/python3.10/dist-packages (from transformers) (2.31.0)\n",
            "Requirement already satisfied: tokenizers<0.19,>=0.14 in /usr/local/lib/python3.10/dist-packages (from transformers) (0.15.2)\n",
            "Requirement already satisfied: safetensors>=0.4.1 in /usr/local/lib/python3.10/dist-packages (from transformers) (0.4.2)\n",
            "Requirement already satisfied: tqdm>=4.27 in /usr/local/lib/python3.10/dist-packages (from transformers) (4.66.2)\n",
            "Requirement already satisfied: fsspec>=2023.5.0 in /usr/local/lib/python3.10/dist-packages (from huggingface-hub<1.0,>=0.19.3->transformers) (2023.6.0)\n",
            "Requirement already satisfied: typing-extensions>=3.7.4.3 in /usr/local/lib/python3.10/dist-packages (from huggingface-hub<1.0,>=0.19.3->transformers) (4.9.0)\n",
            "Requirement already satisfied: charset-normalizer<4,>=2 in /usr/local/lib/python3.10/dist-packages (from requests->transformers) (3.3.2)\n",
            "Requirement already satisfied: idna<4,>=2.5 in /usr/local/lib/python3.10/dist-packages (from requests->transformers) (3.6)\n",
            "Requirement already satisfied: urllib3<3,>=1.21.1 in /usr/local/lib/python3.10/dist-packages (from requests->transformers) (2.0.7)\n",
            "Requirement already satisfied: certifi>=2017.4.17 in /usr/local/lib/python3.10/dist-packages (from requests->transformers) (2024.2.2)\n"
          ]
        }
      ],
      "source": [
        "!pip install transformers"
      ]
    },
    {
      "cell_type": "markdown",
      "metadata": {
        "id": "FDDYcyvBeFmA"
      },
      "source": [
        "## Import Library"
      ]
    },
    {
      "cell_type": "code",
      "execution_count": null,
      "metadata": {
        "id": "UVecSUbKq_si"
      },
      "outputs": [],
      "source": [
        "import numpy as np\n",
        "import pandas as pd\n",
        "from tensorflow.keras.models import Sequential\n",
        "from tensorflow.keras.layers import Dense, GRU, Embedding\n",
        "from tensorflow.keras.optimizers import Adam\n",
        "from tensorflow.keras.preprocessing.text import Tokenizer\n",
        "from tensorflow.keras.preprocessing.sequence import pad_sequences\n",
        "from sklearn.model_selection import train_test_split"
      ]
    },
    {
      "cell_type": "markdown",
      "metadata": {
        "id": "yOGFXKWyIqBf"
      },
      "source": [
        "Bir onceki notebook' ta 'hepsiburada' corpusu ile GRU modeli kurmustuk, bu notebook' ta ise ayni corpus ile BERT model kuracagiz :"
      ]
    },
    {
      "cell_type": "code",
      "execution_count": null,
      "metadata": {
        "id": "Vhy2dT_aq_f4"
      },
      "outputs": [],
      "source": [
        "df = pd.read_csv(\"/content/drive/MyDrive/DeepLearning/NLP/hepsiburada.csv\", encoding=\"utf-8\")"
      ]
    },
    {
      "cell_type": "code",
      "execution_count": null,
      "metadata": {
        "colab": {
          "base_uri": "https://localhost:8080/",
          "height": 206
        },
        "id": "f3qQ6RJ0q_R4",
        "outputId": "90f0e858-59ee-465d-ea41-066bc70d3230"
      },
      "outputs": [
        {
          "output_type": "execute_result",
          "data": {
            "text/plain": [
              "   Rating                                             Review\n",
              "0       1                            3 yıldır tık demedi. :)\n",
              "1       1                      3 yıldır kullanıyorum müthiş \n",
              "2       1  Ürün bugün elime geçti çok fazla inceleme fırs...\n",
              "3       1  Almaya karar verdim. Hemencecik geldi. Keyifle...\n",
              "4       1  Günlük kullanımınızı çok çok iyi karsılıyor kı..."
            ],
            "text/html": [
              "\n",
              "  <div id=\"df-8eb9ee78-b90b-459d-b915-5934c40c8e20\" class=\"colab-df-container\">\n",
              "    <div>\n",
              "<style scoped>\n",
              "    .dataframe tbody tr th:only-of-type {\n",
              "        vertical-align: middle;\n",
              "    }\n",
              "\n",
              "    .dataframe tbody tr th {\n",
              "        vertical-align: top;\n",
              "    }\n",
              "\n",
              "    .dataframe thead th {\n",
              "        text-align: right;\n",
              "    }\n",
              "</style>\n",
              "<table border=\"1\" class=\"dataframe\">\n",
              "  <thead>\n",
              "    <tr style=\"text-align: right;\">\n",
              "      <th></th>\n",
              "      <th>Rating</th>\n",
              "      <th>Review</th>\n",
              "    </tr>\n",
              "  </thead>\n",
              "  <tbody>\n",
              "    <tr>\n",
              "      <th>0</th>\n",
              "      <td>1</td>\n",
              "      <td>3 yıldır tık demedi. :)</td>\n",
              "    </tr>\n",
              "    <tr>\n",
              "      <th>1</th>\n",
              "      <td>1</td>\n",
              "      <td>3 yıldır kullanıyorum müthiş</td>\n",
              "    </tr>\n",
              "    <tr>\n",
              "      <th>2</th>\n",
              "      <td>1</td>\n",
              "      <td>Ürün bugün elime geçti çok fazla inceleme fırs...</td>\n",
              "    </tr>\n",
              "    <tr>\n",
              "      <th>3</th>\n",
              "      <td>1</td>\n",
              "      <td>Almaya karar verdim. Hemencecik geldi. Keyifle...</td>\n",
              "    </tr>\n",
              "    <tr>\n",
              "      <th>4</th>\n",
              "      <td>1</td>\n",
              "      <td>Günlük kullanımınızı çok çok iyi karsılıyor kı...</td>\n",
              "    </tr>\n",
              "  </tbody>\n",
              "</table>\n",
              "</div>\n",
              "    <div class=\"colab-df-buttons\">\n",
              "\n",
              "  <div class=\"colab-df-container\">\n",
              "    <button class=\"colab-df-convert\" onclick=\"convertToInteractive('df-8eb9ee78-b90b-459d-b915-5934c40c8e20')\"\n",
              "            title=\"Convert this dataframe to an interactive table.\"\n",
              "            style=\"display:none;\">\n",
              "\n",
              "  <svg xmlns=\"http://www.w3.org/2000/svg\" height=\"24px\" viewBox=\"0 -960 960 960\">\n",
              "    <path d=\"M120-120v-720h720v720H120Zm60-500h600v-160H180v160Zm220 220h160v-160H400v160Zm0 220h160v-160H400v160ZM180-400h160v-160H180v160Zm440 0h160v-160H620v160ZM180-180h160v-160H180v160Zm440 0h160v-160H620v160Z\"/>\n",
              "  </svg>\n",
              "    </button>\n",
              "\n",
              "  <style>\n",
              "    .colab-df-container {\n",
              "      display:flex;\n",
              "      gap: 12px;\n",
              "    }\n",
              "\n",
              "    .colab-df-convert {\n",
              "      background-color: #E8F0FE;\n",
              "      border: none;\n",
              "      border-radius: 50%;\n",
              "      cursor: pointer;\n",
              "      display: none;\n",
              "      fill: #1967D2;\n",
              "      height: 32px;\n",
              "      padding: 0 0 0 0;\n",
              "      width: 32px;\n",
              "    }\n",
              "\n",
              "    .colab-df-convert:hover {\n",
              "      background-color: #E2EBFA;\n",
              "      box-shadow: 0px 1px 2px rgba(60, 64, 67, 0.3), 0px 1px 3px 1px rgba(60, 64, 67, 0.15);\n",
              "      fill: #174EA6;\n",
              "    }\n",
              "\n",
              "    .colab-df-buttons div {\n",
              "      margin-bottom: 4px;\n",
              "    }\n",
              "\n",
              "    [theme=dark] .colab-df-convert {\n",
              "      background-color: #3B4455;\n",
              "      fill: #D2E3FC;\n",
              "    }\n",
              "\n",
              "    [theme=dark] .colab-df-convert:hover {\n",
              "      background-color: #434B5C;\n",
              "      box-shadow: 0px 1px 3px 1px rgba(0, 0, 0, 0.15);\n",
              "      filter: drop-shadow(0px 1px 2px rgba(0, 0, 0, 0.3));\n",
              "      fill: #FFFFFF;\n",
              "    }\n",
              "  </style>\n",
              "\n",
              "    <script>\n",
              "      const buttonEl =\n",
              "        document.querySelector('#df-8eb9ee78-b90b-459d-b915-5934c40c8e20 button.colab-df-convert');\n",
              "      buttonEl.style.display =\n",
              "        google.colab.kernel.accessAllowed ? 'block' : 'none';\n",
              "\n",
              "      async function convertToInteractive(key) {\n",
              "        const element = document.querySelector('#df-8eb9ee78-b90b-459d-b915-5934c40c8e20');\n",
              "        const dataTable =\n",
              "          await google.colab.kernel.invokeFunction('convertToInteractive',\n",
              "                                                    [key], {});\n",
              "        if (!dataTable) return;\n",
              "\n",
              "        const docLinkHtml = 'Like what you see? Visit the ' +\n",
              "          '<a target=\"_blank\" href=https://colab.research.google.com/notebooks/data_table.ipynb>data table notebook</a>'\n",
              "          + ' to learn more about interactive tables.';\n",
              "        element.innerHTML = '';\n",
              "        dataTable['output_type'] = 'display_data';\n",
              "        await google.colab.output.renderOutput(dataTable, element);\n",
              "        const docLink = document.createElement('div');\n",
              "        docLink.innerHTML = docLinkHtml;\n",
              "        element.appendChild(docLink);\n",
              "      }\n",
              "    </script>\n",
              "  </div>\n",
              "\n",
              "\n",
              "<div id=\"df-0472471b-06ca-42d4-a94a-2d2224501961\">\n",
              "  <button class=\"colab-df-quickchart\" onclick=\"quickchart('df-0472471b-06ca-42d4-a94a-2d2224501961')\"\n",
              "            title=\"Suggest charts\"\n",
              "            style=\"display:none;\">\n",
              "\n",
              "<svg xmlns=\"http://www.w3.org/2000/svg\" height=\"24px\"viewBox=\"0 0 24 24\"\n",
              "     width=\"24px\">\n",
              "    <g>\n",
              "        <path d=\"M19 3H5c-1.1 0-2 .9-2 2v14c0 1.1.9 2 2 2h14c1.1 0 2-.9 2-2V5c0-1.1-.9-2-2-2zM9 17H7v-7h2v7zm4 0h-2V7h2v10zm4 0h-2v-4h2v4z\"/>\n",
              "    </g>\n",
              "</svg>\n",
              "  </button>\n",
              "\n",
              "<style>\n",
              "  .colab-df-quickchart {\n",
              "      --bg-color: #E8F0FE;\n",
              "      --fill-color: #1967D2;\n",
              "      --hover-bg-color: #E2EBFA;\n",
              "      --hover-fill-color: #174EA6;\n",
              "      --disabled-fill-color: #AAA;\n",
              "      --disabled-bg-color: #DDD;\n",
              "  }\n",
              "\n",
              "  [theme=dark] .colab-df-quickchart {\n",
              "      --bg-color: #3B4455;\n",
              "      --fill-color: #D2E3FC;\n",
              "      --hover-bg-color: #434B5C;\n",
              "      --hover-fill-color: #FFFFFF;\n",
              "      --disabled-bg-color: #3B4455;\n",
              "      --disabled-fill-color: #666;\n",
              "  }\n",
              "\n",
              "  .colab-df-quickchart {\n",
              "    background-color: var(--bg-color);\n",
              "    border: none;\n",
              "    border-radius: 50%;\n",
              "    cursor: pointer;\n",
              "    display: none;\n",
              "    fill: var(--fill-color);\n",
              "    height: 32px;\n",
              "    padding: 0;\n",
              "    width: 32px;\n",
              "  }\n",
              "\n",
              "  .colab-df-quickchart:hover {\n",
              "    background-color: var(--hover-bg-color);\n",
              "    box-shadow: 0 1px 2px rgba(60, 64, 67, 0.3), 0 1px 3px 1px rgba(60, 64, 67, 0.15);\n",
              "    fill: var(--button-hover-fill-color);\n",
              "  }\n",
              "\n",
              "  .colab-df-quickchart-complete:disabled,\n",
              "  .colab-df-quickchart-complete:disabled:hover {\n",
              "    background-color: var(--disabled-bg-color);\n",
              "    fill: var(--disabled-fill-color);\n",
              "    box-shadow: none;\n",
              "  }\n",
              "\n",
              "  .colab-df-spinner {\n",
              "    border: 2px solid var(--fill-color);\n",
              "    border-color: transparent;\n",
              "    border-bottom-color: var(--fill-color);\n",
              "    animation:\n",
              "      spin 1s steps(1) infinite;\n",
              "  }\n",
              "\n",
              "  @keyframes spin {\n",
              "    0% {\n",
              "      border-color: transparent;\n",
              "      border-bottom-color: var(--fill-color);\n",
              "      border-left-color: var(--fill-color);\n",
              "    }\n",
              "    20% {\n",
              "      border-color: transparent;\n",
              "      border-left-color: var(--fill-color);\n",
              "      border-top-color: var(--fill-color);\n",
              "    }\n",
              "    30% {\n",
              "      border-color: transparent;\n",
              "      border-left-color: var(--fill-color);\n",
              "      border-top-color: var(--fill-color);\n",
              "      border-right-color: var(--fill-color);\n",
              "    }\n",
              "    40% {\n",
              "      border-color: transparent;\n",
              "      border-right-color: var(--fill-color);\n",
              "      border-top-color: var(--fill-color);\n",
              "    }\n",
              "    60% {\n",
              "      border-color: transparent;\n",
              "      border-right-color: var(--fill-color);\n",
              "    }\n",
              "    80% {\n",
              "      border-color: transparent;\n",
              "      border-right-color: var(--fill-color);\n",
              "      border-bottom-color: var(--fill-color);\n",
              "    }\n",
              "    90% {\n",
              "      border-color: transparent;\n",
              "      border-bottom-color: var(--fill-color);\n",
              "    }\n",
              "  }\n",
              "</style>\n",
              "\n",
              "  <script>\n",
              "    async function quickchart(key) {\n",
              "      const quickchartButtonEl =\n",
              "        document.querySelector('#' + key + ' button');\n",
              "      quickchartButtonEl.disabled = true;  // To prevent multiple clicks.\n",
              "      quickchartButtonEl.classList.add('colab-df-spinner');\n",
              "      try {\n",
              "        const charts = await google.colab.kernel.invokeFunction(\n",
              "            'suggestCharts', [key], {});\n",
              "      } catch (error) {\n",
              "        console.error('Error during call to suggestCharts:', error);\n",
              "      }\n",
              "      quickchartButtonEl.classList.remove('colab-df-spinner');\n",
              "      quickchartButtonEl.classList.add('colab-df-quickchart-complete');\n",
              "    }\n",
              "    (() => {\n",
              "      let quickchartButtonEl =\n",
              "        document.querySelector('#df-0472471b-06ca-42d4-a94a-2d2224501961 button');\n",
              "      quickchartButtonEl.style.display =\n",
              "        google.colab.kernel.accessAllowed ? 'block' : 'none';\n",
              "    })();\n",
              "  </script>\n",
              "</div>\n",
              "\n",
              "    </div>\n",
              "  </div>\n"
            ],
            "application/vnd.google.colaboratory.intrinsic+json": {
              "type": "dataframe",
              "variable_name": "df"
            }
          },
          "metadata": {},
          "execution_count": 9
        }
      ],
      "source": [
        "df.head()"
      ]
    },
    {
      "cell_type": "code",
      "execution_count": null,
      "metadata": {
        "colab": {
          "base_uri": "https://localhost:8080/"
        },
        "id": "CKG2ol0COCu2",
        "outputId": "bf1a58d3-a223-488c-e6e6-1eef3ecc6ffe"
      },
      "outputs": [
        {
          "output_type": "execute_result",
          "data": {
            "text/plain": [
              "1    229821\n",
              "0     13676\n",
              "Name: Rating, dtype: int64"
            ]
          },
          "metadata": {},
          "execution_count": 10
        }
      ],
      "source": [
        "df.Rating.value_counts()"
      ]
    },
    {
      "cell_type": "markdown",
      "metadata": {
        "id": "vPhZIg0CIqBf"
      },
      "source": [
        "Hedef class olan olumsuz yorumlari map fonksiyonu ile 1 yaptik. (Binary modellerde loss ve recall degerleri 1 class' ina ait skorlari verir) :"
      ]
    },
    {
      "cell_type": "code",
      "execution_count": null,
      "metadata": {
        "id": "yCQNvYfHOCga"
      },
      "outputs": [],
      "source": [
        "df.Rating = df.Rating.map({1:0, 0:1})"
      ]
    },
    {
      "cell_type": "code",
      "execution_count": null,
      "metadata": {
        "colab": {
          "base_uri": "https://localhost:8080/"
        },
        "id": "emHvfDJFOMLD",
        "outputId": "0b78fb43-6fbf-4899-f46f-958e64ae322e"
      },
      "outputs": [
        {
          "output_type": "execute_result",
          "data": {
            "text/plain": [
              "0    229821\n",
              "1     13676\n",
              "Name: Rating, dtype: int64"
            ]
          },
          "metadata": {},
          "execution_count": 12
        }
      ],
      "source": [
        "df.Rating.value_counts()"
      ]
    },
    {
      "cell_type": "markdown",
      "metadata": {
        "id": "fbRz7dGzIqBg"
      },
      "source": [
        "Target label ile feature' i ayirip X ve y degiskenlerine atadik :"
      ]
    },
    {
      "cell_type": "code",
      "execution_count": null,
      "metadata": {
        "id": "fNZYGlzIHvY7"
      },
      "outputs": [],
      "source": [
        "X = df['Review'].values\n",
        "y = df['Rating'].values"
      ]
    },
    {
      "cell_type": "markdown",
      "metadata": {
        "id": "yB5pzITOeltL"
      },
      "source": [
        "## Tokenization"
      ]
    },
    {
      "cell_type": "markdown",
      "metadata": {
        "id": "wVwOkzBCjmMX"
      },
      "source": [
        "### Fixing token counts of all documents"
      ]
    },
    {
      "cell_type": "markdown",
      "metadata": {
        "id": "IrAWAX8zIqBg"
      },
      "source": [
        "__Asagidaki islem ile butun cumlelerde gecen tokenleri sayip her yorum icin sabit bir token sayisi belirleyerek, her yorumdan %95 veya uzerinde basariyla token alma islemi yapacagiz  :__"
      ]
    },
    {
      "cell_type": "markdown",
      "metadata": {
        "id": "8tvgfzm4IqBg"
      },
      "source": [
        "BERT modellerindeki ilk asama, modele verilecek olan text' lerin boyutlarini belirlemektir."
      ]
    },
    {
      "cell_type": "markdown",
      "metadata": {
        "id": "RZ0J2h3WIqBg"
      },
      "source": [
        "Asagidaki islemde Tokenization islemi icin oncelikle transformers' tan AutoTokenizer' i import ettik. Bazi kaynaklarda BertTokenizer gibi farkli isimler de gorebiliriz fakat AutoTokenizer hepsini kapsar."
      ]
    },
    {
      "cell_type": "markdown",
      "metadata": {
        "id": "ZSiPH0BXIqBg"
      },
      "source": [
        "Hangi dilde calisacaksak __huggingface.co__ sayfasindan kodu kopyalayip __AutoTokenizer.from_pretrained__ icine yazmamiz gerekir. Bunu bir degiskene atadik."
      ]
    },
    {
      "cell_type": "markdown",
      "metadata": {
        "id": "-sMuEy0IIqBg"
      },
      "source": [
        "__\"dbmdz/bert-base-turkish-cased\" :__ 'cased' yaziyorsa buyuk ve kucuk harfler var demektir. Ozellikle translate islemlerinde buyuk-kucuk harfler onemlidir. __uncased__ yazarsa hepsini kucuk harf yapar. Biz kucuk harf istiyoruz fakat 'uncased' sectigimizde Turkce karakterler secili olmadigi icin once 'case' yaptik, daha sonra for dongusu icinde __lower()__ ile kucuk harflere dönüstürme islemini manuel olarak  yaptik."
      ]
    },
    {
      "cell_type": "markdown",
      "metadata": {
        "id": "8G0toZQsIqBg"
      },
      "source": [
        "__max_len__ uzunlugunu 0 ile baslattik."
      ]
    },
    {
      "cell_type": "markdown",
      "metadata": {
        "id": "NeOF-XQEIqBg"
      },
      "source": [
        "for dongusu ile butun yorumlari teker teker aldik, __tokenizer.encode__ islemi ile her cumleyi tokenlerine ayirdik."
      ]
    },
    {
      "cell_type": "markdown",
      "metadata": {
        "id": "4Adg3-YsIqBg"
      },
      "source": [
        "__add_special_tokens=True :__ Cumlenin basina ve sonuna cumlenin nerede basladigini ve bittigini gosteren ozel tokenleri ilave eder. (__[CLS :__ Nerede basladigi; __[SEP] :__ Nerede bittigi)"
      ]
    },
    {
      "cell_type": "markdown",
      "metadata": {
        "id": "KeUzR0iCIqBg"
      },
      "source": [
        "encode ile butun yorumlari tokenlerine ayirdiktan sonra __len()__ ile bu tokenlerin boyutlarini saydirip max_token listesinin icine atacak."
      ]
    },
    {
      "cell_type": "markdown",
      "metadata": {
        "id": "kS0fXYbwIqBg"
      },
      "source": [
        "max_len=0 ile baslatmistik. Her yapilan islem sonucu yeni gelen cumlenin tokenleri sayilarak __len(input_ids)__ elde mevcut olan eski uzunluk __max_len__, max fonksiyonu icine girer ve max deger hangisi ise o alinir ve max_len her islemde guncellenmis olur. print(max_len) ile ciktida en uzun cumlenin 758 tokenden olustugunu goruyoruz."
      ]
    },
    {
      "cell_type": "markdown",
      "metadata": {
        "id": "AsKEbwI_IqBg"
      },
      "source": [
        "__!__ BERT model en fazla 512 token alabilir __!__"
      ]
    },
    {
      "cell_type": "code",
      "execution_count": null,
      "metadata": {
        "colab": {
          "base_uri": "https://localhost:8080/",
          "height": 272,
          "referenced_widgets": [
            "7cb7a414340a46e3925d83b7597c670b",
            "0850ef02bd6246e9beda41e936b81598",
            "74f73487cdf24a66bcd98bb25483bf9a",
            "8bdbb93a787a44c3bf49aec85e481442",
            "6ee5b2c2c3b04394979ce7208b8368c9",
            "52c3ba6c179244f1b25e52902e2937b8",
            "148d558b0e554e35a408b27f6eba6825",
            "83e868c148814133a74533597c342593",
            "d6d6b2f14d634d25b546b153ee34d9d3",
            "32ec5f7a46194bd98e604cb999ab580c",
            "fdaf4df765434375982da92f54bc8d7b",
            "b27b368ee3ee4b37a6833ef162989a10",
            "52bbf7e1ce0440b4b7ae65f2d4905165",
            "2f188c3cd24f420b9d32102d090a4b15",
            "99b9d5e930c144708aa30ddbb91d7e5b",
            "0a6280cabc334ab7a9fa726fd4b04b4a",
            "4f38aa006c724e5391edc5fc117d45b1",
            "0d5927ddee5546ca8779328311f91ff1",
            "0a2be0407ae740bc8ff8c15a39e04694",
            "45174c20913144399b9223b176f29bd0",
            "48050615766a4e26b4aeb35152cd6a31",
            "73348accdfc34f2788d77be7ef263736",
            "00813c0a826549d79f1e08354da7a52e",
            "cff6445239c045e9b69c825713d8175a",
            "ba469826ba2e415dbf5c05aa4632ff17",
            "f7d388a74d48428a8553847e0c17e924",
            "2ea93da8a4cb455cbf3a11554cae1f42",
            "2d49ba0975534c54b65c7fe09e7a8c6c",
            "88af19cdf1714eacaf59ac9a2559a138",
            "e132d5c5b83e4309b9a5f81245ba8de0",
            "1e248857f5624981a3404e31ac8d60ed",
            "badc5ad2ff9245d5b956a681010fc9b9",
            "b78afc32d5a14061a45318310dcaf1cb"
          ]
        },
        "id": "HXHgV6hdSBdP",
        "outputId": "16b99bce-5a9a-4f3a-f329-8dd2de9902cb"
      },
      "outputs": [
        {
          "output_type": "stream",
          "name": "stderr",
          "text": [
            "/usr/local/lib/python3.10/dist-packages/huggingface_hub/utils/_token.py:88: UserWarning: \n",
            "The secret `HF_TOKEN` does not exist in your Colab secrets.\n",
            "To authenticate with the Hugging Face Hub, create a token in your settings tab (https://huggingface.co/settings/tokens), set it as secret in your Google Colab and restart your session.\n",
            "You will be able to reuse this secret in all of your notebooks.\n",
            "Please note that authentication is recommended but still optional to access public models or datasets.\n",
            "  warnings.warn(\n"
          ]
        },
        {
          "output_type": "display_data",
          "data": {
            "text/plain": [
              "tokenizer_config.json:   0%|          | 0.00/60.0 [00:00<?, ?B/s]"
            ],
            "application/vnd.jupyter.widget-view+json": {
              "version_major": 2,
              "version_minor": 0,
              "model_id": "7cb7a414340a46e3925d83b7597c670b"
            }
          },
          "metadata": {}
        },
        {
          "output_type": "display_data",
          "data": {
            "text/plain": [
              "config.json:   0%|          | 0.00/385 [00:00<?, ?B/s]"
            ],
            "application/vnd.jupyter.widget-view+json": {
              "version_major": 2,
              "version_minor": 0,
              "model_id": "b27b368ee3ee4b37a6833ef162989a10"
            }
          },
          "metadata": {}
        },
        {
          "output_type": "display_data",
          "data": {
            "text/plain": [
              "vocab.txt:   0%|          | 0.00/251k [00:00<?, ?B/s]"
            ],
            "application/vnd.jupyter.widget-view+json": {
              "version_major": 2,
              "version_minor": 0,
              "model_id": "00813c0a826549d79f1e08354da7a52e"
            }
          },
          "metadata": {}
        },
        {
          "output_type": "stream",
          "name": "stderr",
          "text": [
            "Token indices sequence length is longer than the specified maximum sequence length for this model (758 > 512). Running this sequence through the model will result in indexing errors\n"
          ]
        },
        {
          "output_type": "stream",
          "name": "stdout",
          "text": [
            "Max sentence length:  758\n"
          ]
        }
      ],
      "source": [
        "from transformers import AutoTokenizer\n",
        "\n",
        "tokenizer = AutoTokenizer.from_pretrained(\"dbmdz/bert-base-turkish-cased\")\n",
        "\n",
        "max_len = 0\n",
        "\n",
        "# For every sentence...\n",
        "max_token = []\n",
        "for sent in X:\n",
        "\n",
        "    # Tokenize the text and add `[CLS]` and `[SEP]` tokens.\n",
        "\n",
        "    input_ids = tokenizer.encode(sent.lower(), add_special_tokens=True)\n",
        "    max_token.append(len(input_ids))\n",
        "\n",
        "    # Update the maximum sentence length.\n",
        "    max_len = max(max_len, len(input_ids))\n",
        "\n",
        "print('Max sentence length: ', max_len)"
      ]
    },
    {
      "cell_type": "markdown",
      "metadata": {
        "id": "ke_NRyBYIqBg"
      },
      "source": [
        "Yukarida kurdugumuz for dongusu icindeki islemi bir ornekle aciklayalim."
      ]
    },
    {
      "cell_type": "markdown",
      "metadata": {
        "id": "qbNvzrsmIqBg"
      },
      "source": [
        "Tokenizer islemi ile bir cumlenin tokenlerine ayrilmis hali (7 token olustu). Bu tokenlerine ayirma islemine __Word Piece Tokenization__ denir."
      ]
    },
    {
      "cell_type": "markdown",
      "metadata": {
        "id": "z2R7al_1IqBh"
      },
      "source": [
        "Eger __uncased__ kullansaydik bu 'Sükrü' kelimesini tokenlerine ayirmazdi, biz classification islemi yapacagimiz icin ayirip ayirmamasi onemli degil; zaten model bunlari birlestirip yeni anlam cikariyor."
      ]
    },
    {
      "cell_type": "markdown",
      "metadata": {
        "id": "nau61InuIqBh"
      },
      "source": [
        "Model, egitim asamasinda 'sen' '##tepe' '##li' tokenlerini tek bir Word Embedding' te birlestirerek bunlarin tek bir token oldugunu anlayacak."
      ]
    },
    {
      "cell_type": "markdown",
      "metadata": {
        "id": "Tkpj-8glIqBh"
      },
      "source": [
        "BERT modeller kendisine verilen text' lerin her bir tokeninin sayisal degerlere donusturulmus halini (input_ids) ve cumlenin uzunlugunun (attention_mask) ne oldugu bilgisini ister. (Classification islemlerinde token_type_ids kullanilmaz)."
      ]
    },
    {
      "cell_type": "markdown",
      "metadata": {
        "id": "16CjvQMiIqBh"
      },
      "source": [
        "Model kurmadan once her yorumdaki token sayisinin esitlenmesi gerekiyordu. Asagida bu islem hangi mantikta yapilmali, bir ornekle acikladik (NLP_4 notebook' unda aciklandi) :"
      ]
    },
    {
      "cell_type": "code",
      "execution_count": null,
      "metadata": {
        "colab": {
          "base_uri": "https://localhost:8080/"
        },
        "id": "d1FcGviRvoM4",
        "outputId": "a45f2651-babc-4d97-f071-6c11c0c0bff7"
      },
      "outputs": [
        {
          "output_type": "stream",
          "name": "stdout",
          "text": [
            "[ True False  True  True False False]\n",
            "3\n"
          ]
        }
      ],
      "source": [
        "list = [5, 10, 8, 9, 12, 15]\n",
        "print(np.array(list) < 10)\n",
        "print(sum(np.array(list) < 10))"
      ]
    },
    {
      "cell_type": "markdown",
      "metadata": {
        "id": "SA1x1EPbIqBh"
      },
      "source": [
        "Yukaridaki for dongusu ile max_token degiskeni icine butun yorumlarin kac tokenden olustugu bilgisini vermistik. Asagida bunlarin ortalamasini aldik. Corpusumuzdaki yorumlar ortalama olarak 36 tokenden olusuyormus :"
      ]
    },
    {
      "cell_type": "code",
      "execution_count": null,
      "metadata": {
        "colab": {
          "base_uri": "https://localhost:8080/"
        },
        "id": "Nl9BCD__wGTk",
        "outputId": "7d537c09-6d89-4a1e-82d8-38adb89143b7"
      },
      "outputs": [
        {
          "output_type": "execute_result",
          "data": {
            "text/plain": [
              "36.4837390193719"
            ]
          },
          "metadata": {},
          "execution_count": 16
        }
      ],
      "source": [
        "np.array(max_token).mean()"
      ]
    },
    {
      "cell_type": "markdown",
      "metadata": {
        "id": "sRe7mn9kIqBh"
      },
      "source": [
        "Deneme-yanilma yolu ile tum yorumlari 160 tokene sabitledigimizde  corpustaki bilginin %98' ini tutabiliyoruz :"
      ]
    },
    {
      "cell_type": "code",
      "execution_count": null,
      "metadata": {
        "colab": {
          "base_uri": "https://localhost:8080/"
        },
        "id": "GJEpW1GMUa7Q",
        "outputId": "1629757e-64b4-49dc-9ac3-567da2617cce"
      },
      "outputs": [
        {
          "output_type": "execute_result",
          "data": {
            "text/plain": [
              "0.9877000537994308"
            ]
          },
          "metadata": {},
          "execution_count": 17
        }
      ],
      "source": [
        "sum(np.array(max_token) < 160) / len(max_token)"
      ]
    },
    {
      "cell_type": "markdown",
      "metadata": {
        "id": "TR4NlRZDIqBi"
      },
      "source": [
        "Butun yorumlari 160 token sayisina sabitlemek icin asagidaki transformation fonksiyonunu olusturduk."
      ]
    },
    {
      "cell_type": "markdown",
      "metadata": {
        "id": "ZwEDRbJAIqBi"
      },
      "source": [
        "Tanimladigimiz transformation fonksiyonu icine butun yorumlari (X) verdik."
      ]
    },
    {
      "cell_type": "markdown",
      "metadata": {
        "id": "RWx9FHFBIqBi"
      },
      "source": [
        "Sequence boyutunu (160) bir degiskene atadik."
      ]
    },
    {
      "cell_type": "markdown",
      "metadata": {
        "id": "c_84JiJ5IqBi"
      },
      "source": [
        "Satir sayisini (len(X)) bir degiskene atadik. (Corpus kac yorumdan olusuyor bilgisi)"
      ]
    },
    {
      "cell_type": "markdown",
      "metadata": {
        "id": "Iajp5vNRIqBi"
      },
      "source": [
        "__np.zeros__ icine satir sayisini (num_samples) ve her yorumun kac tokenden olusacagini (seq_len) tanimladik. np.zeros icine tanimlamamizin sebebi; 0' lardan olusan bir matris elde etmek."
      ]
    },
    {
      "cell_type": "markdown",
      "metadata": {
        "id": "Y08Y5l7YIqBi"
      },
      "source": [
        "Ornegin np.zeros(10,10) ile 10 satir ve 10 sutundan olusan 0' larla dolu bir matris elde edilir. (Daha sonra bu matris' lerdeki 0 degerleri for dongusu icinde doldurulacak)."
      ]
    },
    {
      "cell_type": "markdown",
      "metadata": {
        "id": "Tr6p74w2IqBi"
      },
      "source": [
        "Yukaridaki for dongusu icinde __encode__ ile token islemi yapmistik ve boylece her bir yorumun kac tokende sabitlenmesi gerektigini tespit etmistik. encode kullaninca tokenlerin aldiklari numaralari vermisti. Fakat BERT modeli kurarken datanin __input_ids__, __token_type_ids__ ve __attention_mask__ bilgileri alinarak modele verilmesi gerekiyor.  Bunlarin hepsini alabilmek icin __encode_plus__ kullanmak zorundayiz."
      ]
    },
    {
      "cell_type": "markdown",
      "metadata": {
        "id": "9XnNokTSIqBi"
      },
      "source": [
        "__!!!__ __token_type_ids__ classification islemlerinde kullanilmaz, translate, sonraki cumleyi tahmin etme gibi problemlerde kullanilir. Biz bu calismada classification islemi yapacagimiz icin bunu kullanmayacagiz __!!!__"
      ]
    },
    {
      "cell_type": "raw",
      "metadata": {
        "id": "oc4zAZs3IqBi"
      },
      "source": [
        "for dongusu :\n",
        "\n",
        "1. Her yorum (X) tokens degiskeninin icine atilir. tokenizer.encode_plus icinde her gelen yorum kucuk harflere dönüstürülür.\n",
        "2. Her yorumun token sayisi max_length' e (seq_len=160) esitlenir.\n",
        "3. truncation=Ture --> 160' dan uzun olanlari kes.\n",
        "4. padding='max_length --> 160' dan kisa olan yorumlari doldurma islemini max_length'e gore (160) yap.\n",
        "5. add_special_tokens=True --> Butun yorumlarin basina ve sonuna cumlenin basladigini ve bittigini gosteren ozel tokenleri ilave et. (2 ve 3)\n",
        "\n",
        "6. Xids[i, :] = tokens['input_ids'] --> max_length'e gore kesme ve doldurma islemleri yapilmis olan yorumlari 0' lardan olusan Xids matrisine ilave et.\n",
        "7. Xmask[i, :] = tokens['attention_mask'] --> Her yoruma attention_mask eklenir.\n",
        "8. return Xids, Xmask --> Butun bu islemlerden sonra bu matrisleri döndür."
      ]
    },
    {
      "cell_type": "code",
      "execution_count": null,
      "metadata": {
        "id": "GhFdnT3ha45y"
      },
      "outputs": [],
      "source": [
        "def transformation(X):\n",
        "  # set array dimensions\n",
        "  seq_len = 160\n",
        "  num_samples = len(X)\n",
        "\n",
        "  # initialize empty zero arrays\n",
        "  Xids = np.zeros((num_samples, seq_len))\n",
        "  Xmask = np.zeros((num_samples, seq_len))\n",
        "\n",
        "\n",
        "  for i, phrase in enumerate(X):\n",
        "      tokens = tokenizer.encode_plus(phrase.lower(), max_length=seq_len, truncation=True,\n",
        "                                      padding='max_length', add_special_tokens=True)\n",
        "      # assign tokenized outputs to respective rows in numpy arrays\n",
        "      Xids[i, :] = tokens['input_ids']\n",
        "      Xmask[i, :] = tokens['attention_mask']\n",
        "  return Xids, Xmask"
      ]
    },
    {
      "cell_type": "markdown",
      "metadata": {
        "id": "w2StJ5cvIqBi"
      },
      "source": [
        "Yukaridaki fonksiyonun icine __X__' i verdigimizde modele verecegimiz inputlar olan Xids ve Xmask matrisleri belirlenen boyutlarda olustu :"
      ]
    },
    {
      "cell_type": "code",
      "execution_count": null,
      "metadata": {
        "id": "0NV4wPkfHS3h"
      },
      "outputs": [],
      "source": [
        "Xids, Xmask = transformation(X)"
      ]
    },
    {
      "cell_type": "code",
      "execution_count": null,
      "metadata": {
        "colab": {
          "base_uri": "https://localhost:8080/"
        },
        "id": "BZoNGKMXf1Y8",
        "outputId": "89934927-dc11-4cdf-e981-5106659afa92"
      },
      "outputs": [
        {
          "output_type": "execute_result",
          "data": {
            "text/plain": [
              "(243497, 160)"
            ]
          },
          "metadata": {},
          "execution_count": 20
        }
      ],
      "source": [
        "Xids.shape     # satir sayisi ve token uzunlugu"
      ]
    },
    {
      "cell_type": "code",
      "execution_count": null,
      "metadata": {
        "colab": {
          "base_uri": "https://localhost:8080/"
        },
        "id": "4ZcS_JrWf1pX",
        "outputId": "44f8cebc-4902-49ec-c6ce-60db146b47e4"
      },
      "outputs": [
        {
          "output_type": "execute_result",
          "data": {
            "text/plain": [
              "(243497, 160)"
            ]
          },
          "metadata": {},
          "execution_count": 21
        }
      ],
      "source": [
        "Xmask.shape"
      ]
    },
    {
      "cell_type": "markdown",
      "metadata": {
        "id": "6w5z_3f4IqBi"
      },
      "source": [
        "Asagidaki ornekte __encode_plus__ sonucu olusan input_ids, token_type_ids ve attention_mask yapilari gosterildi :"
      ]
    },
    {
      "cell_type": "code",
      "execution_count": null,
      "metadata": {
        "colab": {
          "base_uri": "https://localhost:8080/"
        },
        "id": "eHRynsnl9VZo",
        "outputId": "94039b1b-fa51-4f84-cc58-467aad30d569"
      },
      "outputs": [
        {
          "output_type": "stream",
          "name": "stdout",
          "text": [
            "{'input_ids': [2, 7031, 9425, 1973, 7031, 10321, 1973, 3, 0, 0, 0, 0, 0, 0, 0, 0, 0, 0, 0, 0], 'token_type_ids': [0, 0, 0, 0, 0, 0, 0, 0, 0, 0, 0, 0, 0, 0, 0, 0, 0, 0, 0, 0], 'attention_mask': [1, 1, 1, 1, 1, 1, 1, 1, 0, 0, 0, 0, 0, 0, 0, 0, 0, 0, 0, 0]}\n"
          ]
        }
      ],
      "source": [
        "sentence = \"No pain no gain\".lower()\n",
        "tokens = tokenizer.encode_plus(sentence.lower(), max_length=20, truncation=True,\n",
        "                                      padding='max_length', add_special_tokens=True)\n",
        "print(tokens)"
      ]
    },
    {
      "cell_type": "code",
      "execution_count": null,
      "metadata": {
        "colab": {
          "base_uri": "https://localhost:8080/"
        },
        "id": "xLxn9zXC_H11",
        "outputId": "ac798659-652c-49d0-8bcf-cd08a59ea395"
      },
      "outputs": [
        {
          "output_type": "execute_result",
          "data": {
            "text/plain": [
              "array([[0., 0., 0., 0., 0., 0., 0., 0., 0., 0.],\n",
              "       [0., 0., 0., 0., 0., 0., 0., 0., 0., 0.],\n",
              "       [0., 0., 0., 0., 0., 0., 0., 0., 0., 0.],\n",
              "       [0., 0., 0., 0., 0., 0., 0., 0., 0., 0.],\n",
              "       [0., 0., 0., 0., 0., 0., 0., 0., 0., 0.],\n",
              "       [0., 0., 0., 0., 0., 0., 0., 0., 0., 0.],\n",
              "       [0., 0., 0., 0., 0., 0., 0., 0., 0., 0.],\n",
              "       [0., 0., 0., 0., 0., 0., 0., 0., 0., 0.],\n",
              "       [0., 0., 0., 0., 0., 0., 0., 0., 0., 0.],\n",
              "       [0., 0., 0., 0., 0., 0., 0., 0., 0., 0.]])"
            ]
          },
          "metadata": {},
          "execution_count": 23
        }
      ],
      "source": [
        "np.zeros((10, 10))"
      ]
    },
    {
      "cell_type": "markdown",
      "metadata": {
        "id": "Ps0TTQzQIqBj"
      },
      "source": [
        "__Xids'__ ler numeric hale donusmus olan yorumlar :"
      ]
    },
    {
      "cell_type": "code",
      "execution_count": null,
      "metadata": {
        "colab": {
          "base_uri": "https://localhost:8080/"
        },
        "id": "8DzAyweED5R7",
        "outputId": "e510baf1-de6d-4c9c-ec64-76698f187ef7"
      },
      "outputs": [
        {
          "output_type": "execute_result",
          "data": {
            "text/plain": [
              "array([[2.0000e+00, 2.3000e+01, 5.1420e+03, ..., 0.0000e+00, 0.0000e+00,\n",
              "        0.0000e+00],\n",
              "       [2.0000e+00, 2.3000e+01, 5.1420e+03, ..., 0.0000e+00, 0.0000e+00,\n",
              "        0.0000e+00],\n",
              "       [2.0000e+00, 2.7820e+03, 3.1200e+03, ..., 0.0000e+00, 0.0000e+00,\n",
              "        0.0000e+00],\n",
              "       ...,\n",
              "       [2.0000e+00, 3.8070e+03, 9.2500e+03, ..., 0.0000e+00, 0.0000e+00,\n",
              "        0.0000e+00],\n",
              "       [2.0000e+00, 3.1560e+03, 4.1650e+03, ..., 0.0000e+00, 0.0000e+00,\n",
              "        0.0000e+00],\n",
              "       [2.0000e+00, 1.6807e+04, 1.9870e+03, ..., 0.0000e+00, 0.0000e+00,\n",
              "        0.0000e+00]])"
            ]
          },
          "metadata": {},
          "execution_count": 24
        }
      ],
      "source": [
        "Xids"
      ]
    },
    {
      "cell_type": "markdown",
      "metadata": {
        "id": "IVgPcdLaIqBj"
      },
      "source": [
        "__Xmask__ ile her yorumun gercek cumle uzunlugu belirlendi (1 degerleri toplanir, 160 tokene ulasmak icin doldurulmus olan kisimlar 0 sayisi ile temsil edilir) :"
      ]
    },
    {
      "cell_type": "code",
      "execution_count": null,
      "metadata": {
        "colab": {
          "base_uri": "https://localhost:8080/"
        },
        "id": "wC4e77awEDp5",
        "outputId": "aa9c57d5-04fa-4570-9796-3ca716d99f13"
      },
      "outputs": [
        {
          "output_type": "execute_result",
          "data": {
            "text/plain": [
              "array([[1., 1., 1., ..., 0., 0., 0.],\n",
              "       [1., 1., 1., ..., 0., 0., 0.],\n",
              "       [1., 1., 1., ..., 0., 0., 0.],\n",
              "       ...,\n",
              "       [1., 1., 1., ..., 0., 0., 0.],\n",
              "       [1., 1., 1., ..., 0., 0., 0.],\n",
              "       [1., 1., 1., ..., 0., 0., 0.]])"
            ]
          },
          "metadata": {},
          "execution_count": 25
        }
      ],
      "source": [
        "Xmask"
      ]
    },
    {
      "cell_type": "markdown",
      "metadata": {
        "id": "RHL05vRzIqBj"
      },
      "source": [
        "Xkids, yorumlarin sayisal hale donusturulmus halleri ve Xmax, her yorumun kac tokenden olustugunu gosteren veriler modele input olarak verilmek uzere hazir."
      ]
    },
    {
      "cell_type": "markdown",
      "metadata": {
        "id": "6T_pDIZtIqBj"
      },
      "source": [
        "Siradaki islemde output kismini ayarlayacagiz."
      ]
    },
    {
      "cell_type": "markdown",
      "metadata": {
        "id": "i7tGnDrgIqBj"
      },
      "source": [
        "Asagidaki ornek ile Tensorflow kutuphanesindeki __to_categorical__ fonksiyonunun calisma mantigini aciklayalim :"
      ]
    },
    {
      "cell_type": "markdown",
      "metadata": {
        "id": "PCRa39a5IqBj"
      },
      "source": [
        "__l = np.array([1, 0, 2, 3, 4]) :__ 5 farkli unique label olsun. Bunu to_categorical icine verip yanina da kac sinif var ise bunu verdigimizde to_categorical, verilere gore category siniflarini ayarlar. Ilgili label hangi sayi ise o satirda o sayiyi 1, digerlerini 0 yapar :"
      ]
    },
    {
      "cell_type": "markdown",
      "metadata": {
        "id": "dFf1EcFlIqBj"
      },
      "source": [
        "BERT modellerinde labellama islemi bu sekilde yapilir."
      ]
    },
    {
      "cell_type": "code",
      "execution_count": null,
      "metadata": {
        "id": "25t-t9T0mVxS"
      },
      "outputs": [],
      "source": [
        "#from tensorflow.keras.utils import to_categorical\n",
        "\n",
        "#l = np.array([1, 0, 2, 3, 4])\n",
        "#to_categorical(l, 5)"
      ]
    },
    {
      "cell_type": "markdown",
      "metadata": {
        "id": "Elc2l2PDIqBj"
      },
      "source": [
        "Istisnai durum olarak, eger corpus binary ise asagidaki gibi __reshape__ ile 1 ve 0' lardan olusan matrisler haline dönüstürebiliriz. (Egitim maliyetini azaltmak adina binary modellerde tavsiye edilen budur) :"
      ]
    },
    {
      "cell_type": "markdown",
      "metadata": {
        "id": "mG_G8TRGIqBj"
      },
      "source": [
        "__reshape(-1,1) -->__ 1 : Tek sütun, -1 : Kac satir oldugunu kendisi tespit eder, yazmaya gerek yok. Bunun ile tek satirli matris olusur."
      ]
    },
    {
      "cell_type": "code",
      "execution_count": null,
      "metadata": {
        "colab": {
          "base_uri": "https://localhost:8080/"
        },
        "id": "Vrg9W-mPoUT-",
        "outputId": "685d75bf-f9c2-4e5d-94b1-fe2c9223b3e1"
      },
      "outputs": [
        {
          "output_type": "execute_result",
          "data": {
            "text/plain": [
              "array([[1],\n",
              "       [0],\n",
              "       [1],\n",
              "       [0],\n",
              "       [0]])"
            ]
          },
          "metadata": {},
          "execution_count": 26
        }
      ],
      "source": [
        "np.array([1, 0, 1, 0, 0]).reshape(-1,1) #reshape(5,1)"
      ]
    },
    {
      "cell_type": "code",
      "execution_count": null,
      "metadata": {
        "colab": {
          "base_uri": "https://localhost:8080/"
        },
        "id": "oQSgvvRlDfE-",
        "outputId": "cd47074e-3df5-4056-9b22-95a9ee21cb8b"
      },
      "outputs": [
        {
          "output_type": "execute_result",
          "data": {
            "text/plain": [
              "array([0, 0, 0, ..., 0, 0, 0])"
            ]
          },
          "metadata": {},
          "execution_count": 27
        }
      ],
      "source": [
        "y"
      ]
    },
    {
      "cell_type": "markdown",
      "metadata": {
        "id": "COhDnN5uIqBj"
      },
      "source": [
        "y, 0 ve 1' lerden olusan bir array idi. Bu degerleri reshape ile one-hot encoding sekline dönüstürdük. (Sadece 2 class oldugu icin reshape yontemini kullandik). (y, bir sutundan olusan matrise donustu)  :"
      ]
    },
    {
      "cell_type": "code",
      "execution_count": null,
      "metadata": {
        "colab": {
          "base_uri": "https://localhost:8080/"
        },
        "id": "lHJJhrbztBv9",
        "outputId": "af4c769a-d979-445b-80ed-72d7e6972eb2"
      },
      "outputs": [
        {
          "output_type": "execute_result",
          "data": {
            "text/plain": [
              "array([[0],\n",
              "       [0],\n",
              "       [0],\n",
              "       ...,\n",
              "       [0],\n",
              "       [0],\n",
              "       [0]])"
            ]
          },
          "metadata": {},
          "execution_count": 28
        }
      ],
      "source": [
        "labels = y.reshape(-1,1)\n",
        "labels"
      ]
    },
    {
      "cell_type": "markdown",
      "metadata": {
        "id": "ziO5Bw_CIqBj"
      },
      "source": [
        "Yukaridaki islemler ile inputlar icin her bir tokenin numeric hale dönüstürülmüs hali olan Xids, her bir yorumun kac tokenden olustugunu gosteren Xmask, ve label' lar (y) matris haline dönüstürülmüs oldu. Bunlari matrise dönüstürmemizin sebebi; bunlari sonraki islemde __tensor'__ e dönüstürecegiz.  "
      ]
    },
    {
      "cell_type": "markdown",
      "metadata": {
        "id": "RoHouk9fIqBk"
      },
      "source": [
        "__tensor :__ Birden fazla matristen olusan düzenektir. Burada 3 tane matris var; Xids, Xmask, label. Olusturdugumuz inputlari ve labeli tensor icine vererek bunlari modelin istedigi bicime donusturecegiz."
      ]
    },
    {
      "cell_type": "markdown",
      "metadata": {
        "id": "Vc_TkHcgIqBk"
      },
      "source": [
        "__tf.data.Dataset.from_tensor_slices :__ Islemi ile BERT modele verebilmek icin datasetimizi uygun formata getiriyoruz. Fakat oncesinde bunu tensor'e dönüstürmeliyiz."
      ]
    },
    {
      "cell_type": "markdown",
      "metadata": {
        "id": "uORftgW4IqBk"
      },
      "source": [
        "__from_tensor_slices :__ Xids, Xmask ve labels' i matrislerin her birini ayri ayri modele verir. Ciktisinda da goruldugu gibi, Xids ve Xmask' in tek satirli 160 dizinden olusuyor; labels ise bir token ve bir satirdan olusuyor."
      ]
    },
    {
      "cell_type": "markdown",
      "metadata": {
        "id": "sljM6sMcIqBk"
      },
      "source": [
        "Bazi kaynaklarda _from_tensor_slices_ yerine _from_tensors_ kullanildigini goruruz. Bu, butun matrisin oldugu gibi modele verilecegi anlamina gelir(160, satir sayisi) ve model calismaz. Bu yuzden her model satir satir modele verilsin diye (160,) _from_tensor_slices_' i kullaniyoruz."
      ]
    },
    {
      "cell_type": "code",
      "execution_count": null,
      "metadata": {
        "colab": {
          "base_uri": "https://localhost:8080/"
        },
        "id": "_WwNbUgys-oJ",
        "outputId": "c1f54b57-b85a-4094-dccf-7dc96e5e8be7"
      },
      "outputs": [
        {
          "output_type": "execute_result",
          "data": {
            "text/plain": [
              "<_TensorSliceDataset element_spec=(TensorSpec(shape=(160,), dtype=tf.float64, name=None), TensorSpec(shape=(160,), dtype=tf.float64, name=None), TensorSpec(shape=(1,), dtype=tf.int64, name=None))>"
            ]
          },
          "metadata": {},
          "execution_count": 29
        }
      ],
      "source": [
        "import tensorflow as tf\n",
        "\n",
        "dataset = tf.data.Dataset.from_tensor_slices((Xids, Xmask, labels)) #tf.data.Dataset.from_tensors((Xids, Xmask, labels))\n",
        "dataset"
      ]
    },
    {
      "cell_type": "markdown",
      "metadata": {
        "id": "RE9HamjkIqBk"
      },
      "source": [
        "Yukaridaki islemlerden sonra model hala Xids, Xmask ve labels' tan hangisinin __input,__ hangisinin __output__ oldugunu bilmiyor.Bunlari modele tanitmamiz gerekiyor.  __!!!__ Yukaridaki BERT model icinde gecen etiket isimleri ne ise bu isimleri kullanmak cok onemli (Xids, Xmask, labels) __!!!__"
      ]
    },
    {
      "cell_type": "markdown",
      "metadata": {
        "id": "geq2mjQSdPIt"
      },
      "source": [
        "Bunun icin asagida bir fonksiyon yazdik. Fonksiyonun icine Xids, Xmask ve labels' i tanimladik ve input_ids ve attention_mask' i dictionary icinde verdik. __!!!__ Bunlari dictionary icine yazmak cok onemli, bu sekilde model input ve output kismini ayirt edebiliyor (input ve output' u birbirinden ayirdik) __!!!__"
      ]
    },
    {
      "cell_type": "markdown",
      "metadata": {
        "id": "I7VFvIqAIqBk"
      },
      "source": [
        "dict icinde olanlar input, disarda kalan output tek basina oldugu icin bunu ayrica tanimlamamiza gerek yok, dict disina yazdik."
      ]
    },
    {
      "cell_type": "markdown",
      "metadata": {
        "id": "aaxtTK2oIqBk"
      },
      "source": [
        "map fonksiyonu ile  bu islemleri uyguladik ve datamizi modele hazir hale getirdik."
      ]
    },
    {
      "cell_type": "code",
      "execution_count": null,
      "metadata": {
        "id": "QPM4QFRgm_Dq"
      },
      "outputs": [],
      "source": [
        "import tensorflow as tf\n",
        "dataset = tf.data.Dataset.from_tensor_slices((Xids, Xmask, labels))\n",
        "\n",
        "def map_func(Xids, Xmask, labels):\n",
        "    # we convert our three-item tuple into a two-item tuple where the input item is a dictionary\n",
        "    return {'input_ids': Xids, 'attention_mask': Xmask}, labels\n",
        "\n",
        "# then we use the dataset map method to apply this transformation\n",
        "dataset = dataset.map(map_func)"
      ]
    },
    {
      "cell_type": "markdown",
      "metadata": {
        "id": "G6CtrgIDvvX_"
      },
      "source": [
        "Input ve labellarin ne oldugu artik belli, modele bunu verdigimizde artik model input_ids' nin, attention_mask' in hangi tensor oldugunu ve disarda kalanin da output tensorü oldugunu bilecek :"
      ]
    },
    {
      "cell_type": "code",
      "execution_count": null,
      "metadata": {
        "colab": {
          "base_uri": "https://localhost:8080/"
        },
        "id": "w9siHyyDp_CR",
        "outputId": "9579d77c-42f8-46e5-f000-1c9466bda099"
      },
      "outputs": [
        {
          "output_type": "execute_result",
          "data": {
            "text/plain": [
              "<_MapDataset element_spec=({'input_ids': TensorSpec(shape=(160,), dtype=tf.float64, name=None), 'attention_mask': TensorSpec(shape=(160,), dtype=tf.float64, name=None)}, TensorSpec(shape=(1,), dtype=tf.int64, name=None))>"
            ]
          },
          "metadata": {},
          "execution_count": 31
        }
      ],
      "source": [
        "dataset"
      ]
    },
    {
      "cell_type": "markdown",
      "metadata": {
        "id": "VCuOU85Ldns6"
      },
      "source": [
        "## Train Test Split"
      ]
    },
    {
      "cell_type": "markdown",
      "metadata": {
        "id": "waDdhqPPIqBk"
      },
      "source": [
        "Datasetini BERT modelin anlayacagi sekle getirdikten sonra bunlari paketler haline getirme islemini yapacagiz."
      ]
    },
    {
      "cell_type": "markdown",
      "metadata": {
        "id": "iWKdZugaIqBk"
      },
      "source": [
        "NLP modellerinde train-test split islemleri DL modellerinden farklidir."
      ]
    },
    {
      "cell_type": "markdown",
      "metadata": {
        "id": "pqmclQG7IqBk"
      },
      "source": [
        "RNN modellerinde batch_size fit islemi esnasinda veriliyordu. BERT modellerinde ise dataseti olusturma asamasinda belirlenir."
      ]
    },
    {
      "cell_type": "markdown",
      "metadata": {
        "id": "znBlDmd9IqBk"
      },
      "source": [
        "__!!!__ Dokumanlara gore, BERT modellerde batch_size sadece 16 veya 32 olabilir. __!!!__"
      ]
    },
    {
      "cell_type": "markdown",
      "metadata": {
        "id": "nekI9rVkIqBk"
      },
      "source": [
        "batch_size=16 sectigimizde model, overfite gittigi icin 32 degerini sectik."
      ]
    },
    {
      "cell_type": "markdown",
      "metadata": {
        "id": "hDpM-jtpIqBk"
      },
      "source": [
        "__shuffle -->__ Datasetini kendi icinde karistirmamiz gerekiyor, bunun icin shuffle fonksiyonunu kullaniyoruz."
      ]
    },
    {
      "cell_type": "markdown",
      "metadata": {
        "id": "b9TQaz03IqBk"
      },
      "source": [
        "#### __shuffle Parametreleri :__"
      ]
    },
    {
      "cell_type": "markdown",
      "metadata": {
        "id": "UOBOsXXJIqBk"
      },
      "source": [
        "__buffer_size -->__ Dokumanlara gore, corpustaki satir sayisindan buyuk bir rakam yazilirsa datasetinin en iyi karisimi elde edilir. Bu yuzden satir sayimizdan daha buyuk bir sayi olan 243500' ü yazdik. Bu islem ile matrisler kendi icinde karistirilir, daha sonra bunlar train-test split isleminde ayrilacaklar."
      ]
    },
    {
      "cell_type": "markdown",
      "metadata": {
        "id": "tFBSzuTIIqBk"
      },
      "source": [
        "__reshuffle_each_iteration=False -->__ Model kurulduktan sonra train ve test seti arasindaki overfitting durumunu kontrol edebilmek icin bu parametrenin __False__ olmasi gerekir. True secildiginde test set ve train seti egitim asamasinda her iterasyonda karisabilir. (Default=True)"
      ]
    },
    {
      "cell_type": "markdown",
      "metadata": {
        "id": "z6eK0n8NIqBl"
      },
      "source": [
        "__.batch -->__ Data karildiktan sonra batch' lere bolme islemi yapilir. Biz batch_size=32 sectigimiz icin 32' li paketlere bolunecekler.  "
      ]
    },
    {
      "cell_type": "markdown",
      "metadata": {
        "id": "URzlNH7UIqBl"
      },
      "source": [
        "__drop_remainder=True -->__ Modelin kacli paketlere bölündügünü bilmesi icin bunu mutlaka __True__ secmek gerekir. Eger false dersek __TensorSpec(shape=(32, 160)__' taki 32 yerine NaN yazar ve kacli paketlere bölündügünü bilmez."
      ]
    },
    {
      "cell_type": "code",
      "execution_count": null,
      "metadata": {
        "id": "1PDQLvW_m_ww"
      },
      "outputs": [],
      "source": [
        "batch_size = 32\n",
        "\n",
        "# shuffle and batch\n",
        "# fit into a batch of 32\n",
        "dataset = dataset.shuffle(243500, reshuffle_each_iteration=False).batch(batch_size, drop_remainder=True)"
      ]
    },
    {
      "cell_type": "code",
      "execution_count": null,
      "metadata": {
        "colab": {
          "base_uri": "https://localhost:8080/"
        },
        "id": "9Ois7VXgq_qb",
        "outputId": "db7405e3-6442-4f45-d87b-88bdedf69eec"
      },
      "outputs": [
        {
          "output_type": "execute_result",
          "data": {
            "text/plain": [
              "<_BatchDataset element_spec=({'input_ids': TensorSpec(shape=(32, 160), dtype=tf.float64, name=None), 'attention_mask': TensorSpec(shape=(32, 160), dtype=tf.float64, name=None)}, TensorSpec(shape=(32, 1), dtype=tf.int64, name=None))>"
            ]
          },
          "metadata": {},
          "execution_count": 33
        }
      ],
      "source": [
        "dataset"
      ]
    },
    {
      "cell_type": "markdown",
      "metadata": {
        "id": "mpQBlSZHIqBl"
      },
      "source": [
        "Her zaman yaptigimiz train-test split islemini burada uygulayamayiz. 'dataset' degiskeni icinde butun datamiz var. Bunun icinden train ve test setlerini birbirinden ayirmamiz gerekiyor."
      ]
    },
    {
      "cell_type": "markdown",
      "metadata": {
        "id": "JvDVh9b4IqBl"
      },
      "source": [
        "BERT modellerinde train seti icin kullanilan oran genelde __%90'__ dir."
      ]
    },
    {
      "cell_type": "markdown",
      "metadata": {
        "id": "a1cuvGJsIqBl"
      },
      "source": [
        "split isimli bir degiskene 0.9 sayisini atadik."
      ]
    },
    {
      "cell_type": "markdown",
      "metadata": {
        "id": "3ZW4mwyqIqBl"
      },
      "source": [
        "__len(dataset) -->__ dataset = satir sayisi / batch_size uzunlugunda (243497 / 32 = 7609). Datasetindeki satirlari 32' li paketlere boldugumuz icin datasetimizin uzunlugu artik 7609. Yani 7609 tane 32' li paketimiz var."
      ]
    },
    {
      "cell_type": "markdown",
      "metadata": {
        "id": "dqDZ2uhqIqBl"
      },
      "source": [
        "7609 tane olan datasetini 0.9 ile carparak datanin %90' ini train islemi icin ayiracagiz. Bunu size isimli bir degiskene attik ve int' e donusturduk (Cunku küsuratli bir sayi cikiyor.)"
      ]
    },
    {
      "cell_type": "code",
      "execution_count": null,
      "metadata": {
        "colab": {
          "base_uri": "https://localhost:8080/"
        },
        "id": "zqlVuZg8KeSK",
        "outputId": "511b2726-0a5c-4045-d866-9bce67a9225c"
      },
      "outputs": [
        {
          "output_type": "execute_result",
          "data": {
            "text/plain": [
              "(243497, 160)"
            ]
          },
          "metadata": {},
          "execution_count": 34
        }
      ],
      "source": [
        "Xids.shape"
      ]
    },
    {
      "cell_type": "code",
      "execution_count": null,
      "metadata": {
        "colab": {
          "base_uri": "https://localhost:8080/"
        },
        "id": "f1Z2kkoczyvP",
        "outputId": "46520185-0746-4a18-e14d-ac46b366cb62"
      },
      "outputs": [
        {
          "output_type": "execute_result",
          "data": {
            "text/plain": [
              "7609"
            ]
          },
          "metadata": {},
          "execution_count": 35
        }
      ],
      "source": [
        "#batch_size=32\n",
        "int(Xids.shape[0]/batch_size)"
      ]
    },
    {
      "cell_type": "code",
      "execution_count": null,
      "metadata": {
        "colab": {
          "base_uri": "https://localhost:8080/"
        },
        "id": "Nddk6eatxmYF",
        "outputId": "4920c61b-ec0c-4314-ff7d-8c5caf32d74e"
      },
      "outputs": [
        {
          "output_type": "stream",
          "name": "stdout",
          "text": [
            "7609\n",
            "6848.1\n",
            "6848\n"
          ]
        }
      ],
      "source": [
        "print(len(dataset))\n",
        "print(len(dataset)*0.9)\n",
        "print(int(len(dataset)*0.9))"
      ]
    },
    {
      "cell_type": "markdown",
      "metadata": {
        "id": "TrGf9IN-IqBl"
      },
      "source": [
        "__dataset.take(size) :__ Datasetinden size kadarini al (%90) (train datasi)"
      ]
    },
    {
      "cell_type": "markdown",
      "metadata": {
        "id": "bCk-YSF3IqBl"
      },
      "source": [
        "__dataset.skip(size) :__ Geriye kalanlari al (%10) (validation datasi)"
      ]
    },
    {
      "cell_type": "markdown",
      "metadata": {
        "id": "QKv7IPXVIqBl"
      },
      "source": [
        "Train ve validation datasetlerinin icinde hem inputlar, hem de outputlar var. Bu yuzden X_train y_train islemine gerek yok. X_train (input) ve y_train (output) datasetinin icinde tanimli."
      ]
    },
    {
      "cell_type": "code",
      "execution_count": null,
      "metadata": {
        "id": "83GtiRjGm_6B"
      },
      "outputs": [],
      "source": [
        "# set split size (90% training data) and calculate training set size\n",
        "split = 0.9\n",
        "size = int(len(dataset)*split) #int((Xids.shape[0]/batch_size)*split)\n",
        "\n",
        "# get training and validation sets\n",
        "train_ds = dataset.take(size)\n",
        "val_ds = dataset.skip(size)"
      ]
    },
    {
      "cell_type": "markdown",
      "metadata": {
        "id": "qd49fq_Ksr3k"
      },
      "source": [
        "## Adamw optimization"
      ]
    },
    {
      "cell_type": "markdown",
      "metadata": {
        "id": "w82W8oBqIqBl"
      },
      "source": [
        "Optimization, loss degerini minimize etmeye calisan bir algoritmadir."
      ]
    },
    {
      "cell_type": "markdown",
      "metadata": {
        "id": "WZRn1ZjrIqBl"
      },
      "source": [
        "BERT modellerinin cok iyi skorlar almasinin bir nedeni de __Adam weight__ optimizasyonunu kullanmasidir."
      ]
    },
    {
      "cell_type": "markdown",
      "metadata": {
        "id": "7H235rKEIqBn"
      },
      "source": [
        "Optimizasyon islemi icin asagidaki kod install edilmeli :"
      ]
    },
    {
      "cell_type": "code",
      "execution_count": null,
      "metadata": {
        "id": "uFOgMEoOtldS",
        "colab": {
          "base_uri": "https://localhost:8080/"
        },
        "outputId": "adbe8f15-b0fb-43bf-c430-3a97a3584dee"
      },
      "outputs": [
        {
          "output_type": "stream",
          "name": "stdout",
          "text": [
            "\u001b[2K     \u001b[90m━━━━━━━━━━━━━━━━━━━━━━━━━━━━━━━━━━━━━━━━\u001b[0m \u001b[32m2.7/2.7 MB\u001b[0m \u001b[31m10.4 MB/s\u001b[0m eta \u001b[36m0:00:00\u001b[0m\n",
            "\u001b[2K     \u001b[90m━━━━━━━━━━━━━━━━━━━━━━━━━━━━━━━━━━━━━━━━\u001b[0m \u001b[32m106.3/106.3 kB\u001b[0m \u001b[31m11.3 MB/s\u001b[0m eta \u001b[36m0:00:00\u001b[0m\n",
            "\u001b[2K     \u001b[90m━━━━━━━━━━━━━━━━━━━━━━━━━━━━━━━━━━━━━━━━\u001b[0m \u001b[32m43.6/43.6 kB\u001b[0m \u001b[31m4.0 MB/s\u001b[0m eta \u001b[36m0:00:00\u001b[0m\n",
            "\u001b[?25h  Preparing metadata (setup.py) ... \u001b[?25l\u001b[?25hdone\n",
            "\u001b[2K     \u001b[90m━━━━━━━━━━━━━━━━━━━━━━━━━━━━━━━━━━━━━━━━\u001b[0m \u001b[32m242.5/242.5 kB\u001b[0m \u001b[31m20.6 MB/s\u001b[0m eta \u001b[36m0:00:00\u001b[0m\n",
            "\u001b[2K     \u001b[90m━━━━━━━━━━━━━━━━━━━━━━━━━━━━━━━━━━━━━━━━\u001b[0m \u001b[32m5.2/5.2 MB\u001b[0m \u001b[31m54.5 MB/s\u001b[0m eta \u001b[36m0:00:00\u001b[0m\n",
            "\u001b[2K     \u001b[90m━━━━━━━━━━━━━━━━━━━━━━━━━━━━━━━━━━━━━━━━\u001b[0m \u001b[32m475.2/475.2 MB\u001b[0m \u001b[31m2.8 MB/s\u001b[0m eta \u001b[36m0:00:00\u001b[0m\n",
            "\u001b[2K     \u001b[90m━━━━━━━━━━━━━━━━━━━━━━━━━━━━━━━━━━━━━━━━\u001b[0m \u001b[32m5.5/5.5 MB\u001b[0m \u001b[31m47.5 MB/s\u001b[0m eta \u001b[36m0:00:00\u001b[0m\n",
            "\u001b[2K     \u001b[90m━━━━━━━━━━━━━━━━━━━━━━━━━━━━━━━━━━━━━━━━\u001b[0m \u001b[32m442.0/442.0 kB\u001b[0m \u001b[31m21.6 MB/s\u001b[0m eta \u001b[36m0:00:00\u001b[0m\n",
            "\u001b[2K     \u001b[90m━━━━━━━━━━━━━━━━━━━━━━━━━━━━━━━━━━━━━━━━\u001b[0m \u001b[32m1.7/1.7 MB\u001b[0m \u001b[31m42.1 MB/s\u001b[0m eta \u001b[36m0:00:00\u001b[0m\n",
            "\u001b[?25h  Building wheel for seqeval (setup.py) ... \u001b[?25l\u001b[?25hdone\n"
          ]
        }
      ],
      "source": [
        "!pip install -q tf-models-official"
      ]
    },
    {
      "cell_type": "code",
      "execution_count": null,
      "metadata": {
        "id": "IPk2ntGCtx7d",
        "colab": {
          "base_uri": "https://localhost:8080/"
        },
        "outputId": "698605bb-597c-4a83-fc1b-1ab60deb4447"
      },
      "outputs": [
        {
          "output_type": "execute_result",
          "data": {
            "text/plain": [
              "6848"
            ]
          },
          "metadata": {},
          "execution_count": 39
        }
      ],
      "source": [
        "len(train_ds)"
      ]
    },
    {
      "cell_type": "markdown",
      "metadata": {
        "id": "T8v6PVRDIqBn"
      },
      "source": [
        "Asagidaki kod, tensorflow' un dokumanlarinda yayinladigi koddur. Fakat bu kod cok fazla hata verdigi icin genelde klasik adam optimizer' i tercih edilir. Biz onerilen kodu kullanacagiz."
      ]
    },
    {
      "cell_type": "markdown",
      "metadata": {
        "id": "6MUJ4QfAIqBn"
      },
      "source": [
        "epoch sayisi bu asamada belirlenir."
      ]
    },
    {
      "cell_type": "markdown",
      "metadata": {
        "id": "FE43ssowIqBn"
      },
      "source": [
        "Dokumanlara gore BERT modellerde __epoch__ sayisi mutlaka 1, 2 veya 3 olmali. Cunku 3' ten sonra modeller genelde overfite gider."
      ]
    },
    {
      "cell_type": "markdown",
      "metadata": {
        "id": "1Rz7UJXnIqBn"
      },
      "source": [
        "__steps_per_epoch = len(train_ds) -->__ Train datasetinde kac islem yapilacagi bilgisi. (32' li paketlerden kac tane var?)"
      ]
    },
    {
      "cell_type": "markdown",
      "metadata": {
        "id": "iTeEUZFMIqBn"
      },
      "source": [
        "__num_train_steps = steps_per_epoch * epochs -->__ Train setinin %90' i. (Amaci, %90' lik bu kisimdan bir skor alip %10' luk kisimdan (num_warmup_steps) aldigi kisimla karsilastirarak loss degerinin minimize olma islemini surekli olarak kontrol etmektir. (Egitim icinde egitim))"
      ]
    },
    {
      "cell_type": "markdown",
      "metadata": {
        "id": "ufDt4rfTIqBn"
      },
      "source": [
        "__num_warmup_steps = int(0.1*num_train_steps) -->__ Train setinin %10' u."
      ]
    },
    {
      "cell_type": "markdown",
      "metadata": {
        "id": "FHC68OB9IqBn"
      },
      "source": [
        "Belirledigimiz degiskenleri, __create_optimizer__ fonksiyonu icine verdik."
      ]
    },
    {
      "cell_type": "markdown",
      "metadata": {
        "id": "IdJAH8lJIqBn"
      },
      "source": [
        "__init_lr -->__ Baslangic learning rate' i. Google dokumanlari learning rate icin 3 deger kullanilmasini onerir, bunlar; __2e-5, 3e-5, 5e-5__. Dokumanlara gore bu 3 degerden baska deger kullanilmamali. Bu degerler teker teker denenip en iyi skoru alinan deger tercih edilmeli."
      ]
    },
    {
      "cell_type": "code",
      "execution_count": null,
      "metadata": {
        "id": "BGYPkwod6Xke"
      },
      "outputs": [],
      "source": [
        "from official.nlp import optimization\n",
        "epochs = 1  #2, 3\n",
        "#batch_size = 32\n",
        "steps_per_epoch = len(train_ds)\n",
        "\n",
        "num_train_steps = steps_per_epoch * epochs\n",
        "num_warmup_steps = int(0.1*num_train_steps)\n",
        "\n",
        "init_lr = 2e-5  # 3e-5, 5e-5\n",
        "optimizer= optimization.create_optimizer(init_lr=init_lr,\n",
        "                                          num_train_steps=num_train_steps,\n",
        "                                          num_warmup_steps=num_warmup_steps,\n",
        "                                          optimizer_type='adamw')"
      ]
    },
    {
      "cell_type": "markdown",
      "metadata": {
        "id": "qrDXF1ibl76v"
      },
      "source": [
        "## Creating Model"
      ]
    },
    {
      "cell_type": "markdown",
      "metadata": {
        "id": "Ku0rEKR9IqBn"
      },
      "source": [
        "__!!!__ TPU' yu kullanabilmek icin bunu mutlaka bir fonksiyon icinde import etmemiz gerekir. Yoksa TPU' nun hizindan faydalanamayiz ve hata verir __!!!__"
      ]
    },
    {
      "cell_type": "markdown",
      "metadata": {
        "id": "a3ScoLsWIqBn"
      },
      "source": [
        "Butun dillerdeki BERT modelleri icin __TFAutoModel__ import edilip kullanilabilir. (TFAutoModel : Tensorflow kutuphanesini kullanan BERT model)"
      ]
    },
    {
      "cell_type": "raw",
      "metadata": {
        "id": "pbKxEPmIIqBo"
      },
      "source": [
        "Tokenizer islemi icin :\n",
        "tokenizer = AutoTokenizer.from_pretrained(\"dbmdz/bert-base-turkish-cased\")\n",
        "\n",
        "Model icin :\n",
        "model = TFAutoModel.from_pretrained(\"dbmdz/bert-base-turkish-cased\") --> Turkce dili icin\n",
        "\n",
        "(Yukaridaki bilgileri oldugu gibi huggingface.co sayfasindan aldik)"
      ]
    },
    {
      "cell_type": "markdown",
      "metadata": {
        "id": "d6S7nd1zIqBo"
      },
      "source": [
        "tf' ten Input fonksiyonlarini kullanarak inputlarimizi belirledik ve degiskenlere atadik :"
      ]
    },
    {
      "cell_type": "markdown",
      "metadata": {
        "id": "zmOiX3rCIqBo"
      },
      "source": [
        "__input_ids -->__ Yukarida datasetini olustururken input kismina tokenizer isleminde gecen isimleri vermemiz onemliydi. Ayni sekilde burda da modelin input id' yi taniyabilmesi icin __name__ kismina mutlaka bu isimleri belirtmeliyiz. __!__"
      ]
    },
    {
      "cell_type": "markdown",
      "metadata": {
        "id": "ZZNlYiLOIqBo"
      },
      "source": [
        "BERT model 'dtype=int32' ile calisir. Bu yuzden bunlari int32' ye donusturduk."
      ]
    },
    {
      "cell_type": "markdown",
      "metadata": {
        "id": "TX19LwC_IqBo"
      },
      "source": [
        "__attention_mask -->__ Modelin bunun da bir input oldugunu anlayabilmesi icin __name__ kisminda bunu da belirtmemiz gerekir."
      ]
    },
    {
      "cell_type": "markdown",
      "metadata": {
        "id": "TQNj8paqIqBo"
      },
      "source": [
        "__shape=(160,) -->__ Token sayisini yukaridaki islemlerde 160 olarak belirlemistik. (Bu sayi BERT modellerde en faz 512 olabilir. Yazilan sayi buyudukce parametre sayisi da artar ve egitim uzar.)"
      ]
    },
    {
      "cell_type": "markdown",
      "metadata": {
        "id": "keR_I1CvIqBo"
      },
      "source": [
        "__!__ BERT modelde Sequential tanimlamiyoruz. __!__"
      ]
    },
    {
      "cell_type": "markdown",
      "metadata": {
        "id": "tNCdPe6uIqBo"
      },
      "source": [
        "BERT modelin en son layer' i __pooler_output__' tir."
      ]
    },
    {
      "cell_type": "markdown",
      "metadata": {
        "id": "YR9A2Jp5IqBo"
      },
      "source": [
        "__pooler_output -->__ BERT modelin kendi icinde olusturdugu hazir Word Embeding' ler burda kayitlidir. Bu ozel egitilmis Word Embedding' ler pooler_output ile cekilerek Dense layer' a aktarilir. Bu sekilde yorumlar arasinda az gecen tokenler bile yuksek olasilikla tahmin edilir. __embeddings__ degiskeni icine model.bert ile inputlari ve koseli parantez icinde pooler_output' u verince, corpusta bulunan butun tokenlere ait Word Embedding' ler __Dense__ layer' a aktarildi."
      ]
    },
    {
      "cell_type": "markdown",
      "metadata": {
        "id": "YlElJcnIIqBo"
      },
      "source": [
        "X degiskeninin sonuna (embeddings) yazinca __add__ islemi yapilmis oldu. Boylece fully connected layere (Dense), embeddings' ten alinan Word Embedding degerleri aktarilmis oldu."
      ]
    },
    {
      "cell_type": "markdown",
      "metadata": {
        "id": "7AwFkreXIqBo"
      },
      "source": [
        "Corpusta cok az gecen tokenler bile BERT model ile buyuk olasiliklarla dogru tahmin edilir. Cunku BERT modeldeki tokenlerin Word Embedding degerleri milyarlarca kez egitilmistir."
      ]
    },
    {
      "cell_type": "markdown",
      "metadata": {
        "id": "KBd3Gl7vIqBo"
      },
      "source": [
        "embeddings degiskenindeki Word Embedding' ler Dense layer' a aktarilir. Dense layer icindeki sayi tercihe gore degistirilip skorlar takip edilebilir."
      ]
    },
    {
      "cell_type": "markdown",
      "metadata": {
        "id": "CUofrKiqIqBo"
      },
      "source": [
        "Dokumanlara gore __Dropout__ degerini 0.1 secmek tavsiye edilir. Bizim modelimiz overfit oldugu icin biz burda 0.2 sectik :"
      ]
    },
    {
      "cell_type": "markdown",
      "metadata": {
        "id": "Yu8dKul2IqBo"
      },
      "source": [
        "x degiskeninde Dense layer' a __embeddings__' i ekledik, sonra bir dropout layer tanimladik ve sonunda (x)' i yine ekledik ki x dropout' a tabi tutulsun. Son olarak da Droput' tan alinan degerler y' ye aktarilacak ve output alinacak."
      ]
    },
    {
      "cell_type": "markdown",
      "metadata": {
        "id": "lWQJPPLEIqBo"
      },
      "source": [
        "Son olarak __return__ kisminda inputlari ve output' u (y) tanimladik. Bu sayede model, egitim asamasinda bunlari baz alarak loss degerlerini hesaplayacagini bilsin."
      ]
    },
    {
      "cell_type": "code",
      "execution_count": null,
      "metadata": {
        "id": "p__xkFOt4_oI"
      },
      "outputs": [],
      "source": [
        "def create_model():\n",
        "    from transformers import TFAutoModel\n",
        "    model = TFAutoModel.from_pretrained(\"dbmdz/bert-base-turkish-cased\")\n",
        "    input_ids = tf.keras.layers.Input(shape=(160,), name='input_ids', dtype='int32')\n",
        "    attention_mask = tf.keras.layers.Input(shape=(160,), name='attention_mask', dtype='int32')\n",
        "\n",
        "    embeddings = model.bert(input_ids=input_ids, attention_mask=attention_mask)[\"pooler_output\"] #[1]\n",
        "\n",
        "    x = tf.keras.layers.Dense(160, activation='relu')(embeddings)\n",
        "    x = tf.keras.layers.Dropout(0.2, name=\"dropout\")(x)\n",
        "    y = tf.keras.layers.Dense(1, activation='sigmoid', name='outputs')(x)\n",
        "\n",
        "    return tf.keras.Model(inputs=[input_ids, attention_mask], outputs=y)"
      ]
    },
    {
      "cell_type": "markdown",
      "metadata": {
        "id": "G11sGDH3IqBo"
      },
      "source": [
        "TPU' yu kullanabilmek icin asagidaki islemi mutlaka yapmamiz gerekiyor. (Notebook basinda TPU' yu kullanabilmek icin strategy degiskenini olusturmustuk)"
      ]
    },
    {
      "cell_type": "markdown",
      "metadata": {
        "id": "_SMZJHFuIqBo"
      },
      "source": [
        "optimizer, loss, recall (accuracy takip edilmek isteniyorsa bu yazilabilir), create ettigimiz model fonksiyonu degiskenleri olusturulur ve bu degiskenler __compile__ icine yazilir. Bu sekilde modelimiz TPU icine tanimlanmis olur :"
      ]
    },
    {
      "cell_type": "code",
      "execution_count": null,
      "metadata": {
        "colab": {
          "base_uri": "https://localhost:8080/",
          "height": 156,
          "referenced_widgets": [
            "85d7419c8f58478f87d97e9b4bd2cb22",
            "cb8e62b3260c40498220d9c844e4297b",
            "a794098aab794135b1a62aceb0b2f620",
            "0ed3fcb3b9584c2d9df99ba347970416",
            "b3019d82fde1437fadac48f068020e1b",
            "8f2f00dedcf54707835071d5cc2a3acc",
            "98f588b0f40242818caa0d54dbb211b0",
            "f7336579f385476797a4dcc9ba4e7e49",
            "c5b78085bee941b58527a4d321541539",
            "27c6fb82b3ff40e4ba574220cf3eabb6",
            "f06362d727ff4ec9b7d9af960ca772cf"
          ]
        },
        "id": "tPRqyWNQDzyb",
        "outputId": "4b5bc8b7-b9e1-4b89-b76d-bd363b364b96"
      },
      "outputs": [
        {
          "output_type": "display_data",
          "data": {
            "text/plain": [
              "tf_model.h5:   0%|          | 0.00/545M [00:00<?, ?B/s]"
            ],
            "application/vnd.jupyter.widget-view+json": {
              "version_major": 2,
              "version_minor": 0,
              "model_id": "85d7419c8f58478f87d97e9b4bd2cb22"
            }
          },
          "metadata": {}
        },
        {
          "output_type": "stream",
          "name": "stderr",
          "text": [
            "Some layers from the model checkpoint at dbmdz/bert-base-turkish-cased were not used when initializing TFBertModel: ['mlm___cls', 'nsp___cls']\n",
            "- This IS expected if you are initializing TFBertModel from the checkpoint of a model trained on another task or with another architecture (e.g. initializing a BertForSequenceClassification model from a BertForPreTraining model).\n",
            "- This IS NOT expected if you are initializing TFBertModel from the checkpoint of a model that you expect to be exactly identical (initializing a BertForSequenceClassification model from a BertForSequenceClassification model).\n",
            "All the layers of TFBertModel were initialized from the model checkpoint at dbmdz/bert-base-turkish-cased.\n",
            "If your task is similar to the task the model of the checkpoint was trained on, you can already use TFBertModel for predictions without further training.\n"
          ]
        }
      ],
      "source": [
        "with strategy.scope():\n",
        "\n",
        "  optimizer = optimizer #tf.keras.optimizers.Adam(learning_rate=3e-5, epsilon=1e-08)\n",
        "  loss = tf.keras.losses.BinaryCrossentropy()\n",
        "  recall = tf.keras.metrics.Recall()\n",
        "  model3 = create_model()\n",
        "  model3.compile(optimizer=optimizer, loss=loss, metrics=[recall])"
      ]
    },
    {
      "cell_type": "markdown",
      "metadata": {
        "id": "3A1Gviq6IqBo"
      },
      "source": [
        "Yukarida TPU islemini yaptiktan sonra bir uyari veriyor. Classification islemlerinde bu uyariyi vermesi normal."
      ]
    },
    {
      "cell_type": "markdown",
      "metadata": {
        "id": "O9OIJRFLIqBo"
      },
      "source": [
        "Biz modelimizde bir agirliklandirma yapmadik fakat yapmak istenirse asagidaki gibi class' larin corpusta bulunma yuzdelerine bakilip, tam tersi degerler birbirlerine yazilarak agirliklandirma islemi yapilabilir :"
      ]
    },
    {
      "cell_type": "code",
      "execution_count": null,
      "metadata": {
        "id": "GHBMQ5bTxL4o"
      },
      "outputs": [],
      "source": [
        "#pd.Series(y).value_counts(normalize=True)"
      ]
    },
    {
      "cell_type": "markdown",
      "metadata": {
        "id": "e1Rg4psxIqBo"
      },
      "source": [
        "Agirliklandirma yapacak olsaydik asagidaki degiskeni fit islemi icine vermemiz gerekirdi :"
      ]
    },
    {
      "cell_type": "code",
      "execution_count": null,
      "metadata": {
        "id": "GpqDx2KRxNpj"
      },
      "outputs": [],
      "source": [
        "#weights = {0:0.05, 1:0.95}"
      ]
    },
    {
      "cell_type": "markdown",
      "metadata": {
        "id": "0nLtptpxIqBo"
      },
      "source": [
        "Bu kadar dengesiz bir verisetinde bile BERT model ile skorlarimiz cok iyi oldugu icin ayrica agirliklandirma islemine pek ihtiyac duyulmaz."
      ]
    },
    {
      "cell_type": "code",
      "execution_count": null,
      "metadata": {
        "colab": {
          "base_uri": "https://localhost:8080/"
        },
        "id": "tLEyg_TUVTXn",
        "outputId": "d57b52f1-7251-4da2-98a5-0734102c3cf5"
      },
      "outputs": [
        {
          "output_type": "stream",
          "name": "stdout",
          "text": [
            "Model: \"model\"\n",
            "__________________________________________________________________________________________________\n",
            " Layer (type)                   Output Shape         Param #     Connected to                     \n",
            "==================================================================================================\n",
            " input_ids (InputLayer)         [(None, 160)]        0           []                               \n",
            "                                                                                                  \n",
            " attention_mask (InputLayer)    [(None, 160)]        0           []                               \n",
            "                                                                                                  \n",
            " bert (TFBertMainLayer)         TFBaseModelOutputWi  110617344   ['input_ids[0][0]',              \n",
            "                                thPoolingAndCrossAt               'attention_mask[0][0]']         \n",
            "                                tentions(last_hidde                                               \n",
            "                                n_state=(None, 160,                                               \n",
            "                                 768),                                                            \n",
            "                                 pooler_output=(Non                                               \n",
            "                                e, 768),                                                          \n",
            "                                 past_key_values=No                                               \n",
            "                                ne, hidden_states=N                                               \n",
            "                                one, attentions=Non                                               \n",
            "                                e, cross_attentions                                               \n",
            "                                =None)                                                            \n",
            "                                                                                                  \n",
            " dense (Dense)                  (None, 160)          123040      ['bert[0][1]']                   \n",
            "                                                                                                  \n",
            " dropout (Dropout)              (None, 160)          0           ['dense[0][0]']                  \n",
            "                                                                                                  \n",
            " outputs (Dense)                (None, 1)            161         ['dropout[0][0]']                \n",
            "                                                                                                  \n",
            "==================================================================================================\n",
            "Total params: 110,740,545\n",
            "Trainable params: 110,740,545\n",
            "Non-trainable params: 0\n",
            "__________________________________________________________________________________________________\n"
          ]
        }
      ],
      "source": [
        "model3.summary()"
      ]
    },
    {
      "cell_type": "markdown",
      "metadata": {
        "id": "_Bm5J7kbIqBp"
      },
      "source": [
        "__!!!__ BERT modellerde sadece class_weight kullanilir, sample_weight kullanilmaz. __!!!__"
      ]
    },
    {
      "cell_type": "markdown",
      "metadata": {
        "id": "Cybw2ZE8IqBp"
      },
      "source": [
        "fit islemi icine train ve val datasini ve epoch sayisini verdik (Agirliklandirma yapilsaydi class_weight de verilebilirdi)."
      ]
    },
    {
      "cell_type": "markdown",
      "metadata": {
        "id": "plbllAWWIqBp"
      },
      "source": [
        "__!!__ Buradaki fit isleminde X_train ve y_train yok; train ve validation datasetinin icinde bunlar mevcut (Xids ve Xmask, X_train' dir; output ise y_train' dir)."
      ]
    },
    {
      "cell_type": "code",
      "execution_count": null,
      "metadata": {
        "colab": {
          "base_uri": "https://localhost:8080/"
        },
        "id": "YxZ_YPsK61ll",
        "outputId": "05b136ee-d8d1-437d-e584-9df239a1e158"
      },
      "outputs": [
        {
          "output_type": "stream",
          "name": "stderr",
          "text": [
            "WARNING:tensorflow:AutoGraph could not transform <function Model.make_train_function.<locals>.train_function at 0x7cb48c0a12d0> and will run it as-is.\n",
            "Cause: Unable to locate the source code of <function Model.make_train_function.<locals>.train_function at 0x7cb48c0a12d0>. Note that functions defined in certain environments, like the interactive Python shell, do not expose their source code. If that is the case, you should define them in a .py source file. If you are certain the code is graph-compatible, wrap the call using @tf.autograph.experimental.do_not_convert. Original error: could not get source code\n",
            "To silence this warning, decorate the function with @tf.autograph.experimental.do_not_convert\n"
          ]
        },
        {
          "output_type": "stream",
          "name": "stdout",
          "text": [
            "WARNING: AutoGraph could not transform <function Model.make_train_function.<locals>.train_function at 0x7cb48c0a12d0> and will run it as-is.\n",
            "Cause: Unable to locate the source code of <function Model.make_train_function.<locals>.train_function at 0x7cb48c0a12d0>. Note that functions defined in certain environments, like the interactive Python shell, do not expose their source code. If that is the case, you should define them in a .py source file. If you are certain the code is graph-compatible, wrap the call using @tf.autograph.experimental.do_not_convert. Original error: could not get source code\n",
            "To silence this warning, decorate the function with @tf.autograph.experimental.do_not_convert\n",
            "6848/6848 [==============================] - ETA: 0s - loss: 0.0929 - recall: 0.6706"
          ]
        },
        {
          "output_type": "stream",
          "name": "stderr",
          "text": [
            "WARNING:tensorflow:AutoGraph could not transform <function Model.make_test_function.<locals>.test_function at 0x7cb2fbb8a830> and will run it as-is.\n",
            "Cause: Unable to locate the source code of <function Model.make_test_function.<locals>.test_function at 0x7cb2fbb8a830>. Note that functions defined in certain environments, like the interactive Python shell, do not expose their source code. If that is the case, you should define them in a .py source file. If you are certain the code is graph-compatible, wrap the call using @tf.autograph.experimental.do_not_convert. Original error: could not get source code\n",
            "To silence this warning, decorate the function with @tf.autograph.experimental.do_not_convert\n"
          ]
        },
        {
          "output_type": "stream",
          "name": "stdout",
          "text": [
            "WARNING: AutoGraph could not transform <function Model.make_test_function.<locals>.test_function at 0x7cb2fbb8a830> and will run it as-is.\n",
            "Cause: Unable to locate the source code of <function Model.make_test_function.<locals>.test_function at 0x7cb2fbb8a830>. Note that functions defined in certain environments, like the interactive Python shell, do not expose their source code. If that is the case, you should define them in a .py source file. If you are certain the code is graph-compatible, wrap the call using @tf.autograph.experimental.do_not_convert. Original error: could not get source code\n",
            "To silence this warning, decorate the function with @tf.autograph.experimental.do_not_convert\n",
            "6848/6848 [==============================] - 675s 88ms/step - loss: 0.0929 - recall: 0.6706 - val_loss: 0.0629 - val_recall: 0.7526\n"
          ]
        }
      ],
      "source": [
        "history = model3.fit(\n",
        "    train_ds, validation_data= val_ds,\n",
        "    epochs=epochs)"
      ]
    },
    {
      "cell_type": "markdown",
      "metadata": {
        "id": "LjsWW1VAmPxK"
      },
      "source": [
        "## Model evaluation"
      ]
    },
    {
      "cell_type": "markdown",
      "metadata": {
        "id": "bhG9V63gIqBp"
      },
      "source": [
        "Modelimizi egittik, skorlarimizi alacagiz."
      ]
    },
    {
      "cell_type": "markdown",
      "metadata": {
        "id": "sRm3xd8gIqBp"
      },
      "source": [
        "validation dataseti (val_ds), 32' li paketler halinde, bunu for dongusune sokmadan icerigini goremeyiz. Bu datanin icine girip gercek y degerlerini almamiz lazim ki egittigimiz modelden aldigimiz y degerleri ile gercek y degerlerini karsilastirabilelim."
      ]
    },
    {
      "cell_type": "markdown",
      "metadata": {
        "id": "A96QjzxqIqBp"
      },
      "source": [
        "__y_pred__ degiskenine modeldeki y degerlerini attik, for dongusu ile de gercek y degerlerine ulastik."
      ]
    },
    {
      "cell_type": "markdown",
      "metadata": {
        "id": "ByYkaHLLIqBp"
      },
      "source": [
        "__i[0] -->__ val_los icindeki input degerleri var (Xids, Xmask)"
      ]
    },
    {
      "cell_type": "markdown",
      "metadata": {
        "id": "NpFzswcTIqBp"
      },
      "source": [
        "__i[1] -->__ val_los icindeki output degeri (y)"
      ]
    },
    {
      "cell_type": "markdown",
      "metadata": {
        "id": "xZ6ebzDmIqBp"
      },
      "source": [
        "Asagidaki for dongusu icinde array' e cevirme islemi yapmazsak tensor seklinde verir ve cok fazla yer kaplar, calisma hizi düser. array' e cevirmek islemi cok hizlandirdigi icin cevirdik."
      ]
    },
    {
      "cell_type": "markdown",
      "metadata": {
        "id": "byyfffFMIqBp"
      },
      "source": [
        "Ilk for dongusu ile 32' lik paketlerin icine girmis olduk, icteki ikinci for dongusu ile ise icerdeki her bir class degerlerini y_test listesinin icine attik. Bu sekilde class' larin gercek degerlerini cekmis olduk. Sonrasinda bunlari __classification_report__ icine vererek skorlarimizi aldik :"
      ]
    },
    {
      "cell_type": "code",
      "execution_count": null,
      "metadata": {
        "colab": {
          "base_uri": "https://localhost:8080/"
        },
        "id": "Po2U0-F_D1ks",
        "outputId": "2e86ebb1-78e5-4ec9-ab42-3796fe3e8b3e"
      },
      "outputs": [
        {
          "output_type": "stream",
          "name": "stderr",
          "text": [
            "WARNING:tensorflow:AutoGraph could not transform <function Model.make_predict_function.<locals>.predict_function at 0x7cb2fbe24e50> and will run it as-is.\n",
            "Cause: Unable to locate the source code of <function Model.make_predict_function.<locals>.predict_function at 0x7cb2fbe24e50>. Note that functions defined in certain environments, like the interactive Python shell, do not expose their source code. If that is the case, you should define them in a .py source file. If you are certain the code is graph-compatible, wrap the call using @tf.autograph.experimental.do_not_convert. Original error: could not get source code\n",
            "To silence this warning, decorate the function with @tf.autograph.experimental.do_not_convert\n"
          ]
        },
        {
          "output_type": "stream",
          "name": "stdout",
          "text": [
            "WARNING: AutoGraph could not transform <function Model.make_predict_function.<locals>.predict_function at 0x7cb2fbe24e50> and will run it as-is.\n",
            "Cause: Unable to locate the source code of <function Model.make_predict_function.<locals>.predict_function at 0x7cb2fbe24e50>. Note that functions defined in certain environments, like the interactive Python shell, do not expose their source code. If that is the case, you should define them in a .py source file. If you are certain the code is graph-compatible, wrap the call using @tf.autograph.experimental.do_not_convert. Original error: could not get source code\n",
            "To silence this warning, decorate the function with @tf.autograph.experimental.do_not_convert\n",
            "761/761 [==============================] - 23s 24ms/step\n"
          ]
        },
        {
          "output_type": "stream",
          "name": "stderr",
          "text": [
            "Exception ignored in: <function Executor.__del__ at 0x7cb4780b6290>\n",
            "Traceback (most recent call last):\n",
            "  File \"/usr/local/lib/python3.10/dist-packages/tensorflow/python/eager/executor.py\", line 46, in __del__\n",
            "    self.wait()\n",
            "  File \"/usr/local/lib/python3.10/dist-packages/tensorflow/python/eager/executor.py\", line 65, in wait\n",
            "    pywrap_tfe.TFE_ExecutorWaitForAllPendingNodes(self._handle)\n",
            "tensorflow.python.framework.errors_impl.OutOfRangeError: End of sequence\n"
          ]
        },
        {
          "output_type": "stream",
          "name": "stdout",
          "text": [
            "              precision    recall  f1-score   support\n",
            "\n",
            "           0       0.99      0.99      0.99     23006\n",
            "           1       0.86      0.75      0.80      1346\n",
            "\n",
            "    accuracy                           0.98     24352\n",
            "   macro avg       0.92      0.87      0.90     24352\n",
            "weighted avg       0.98      0.98      0.98     24352\n",
            "\n"
          ]
        }
      ],
      "source": [
        "from sklearn.metrics import classification_report, confusion_matrix\n",
        "\n",
        "y_pred = model3.predict(val_ds) >= 0.5\n",
        "\n",
        "y_test = []\n",
        "for i in val_ds:\n",
        "  for j in np.array(i[1]):\n",
        "    y_test.append(j)\n",
        "\n",
        "print(classification_report(y_test, y_pred))"
      ]
    },
    {
      "cell_type": "markdown",
      "metadata": {
        "id": "udKTA6IJIqBp"
      },
      "source": [
        "Yukarida validation icin yaptigimiz ayni islemi train datasi icin de yaparak skorlarimizi aldik ve train-test setlerinden alinan skorlari karsilastirma imkani bulduk."
      ]
    },
    {
      "cell_type": "markdown",
      "metadata": {
        "id": "GWHbzcigIqBp"
      },
      "source": [
        "Cok dengesiz bir veriseti ile BERT modelde mukemmel skorlar aldik (Ayni datasetiyle GRU ile aldigimiz skorlar cok dusuktu)."
      ]
    },
    {
      "cell_type": "code",
      "execution_count": null,
      "metadata": {
        "colab": {
          "base_uri": "https://localhost:8080/"
        },
        "id": "QiPDFzwmdknu",
        "outputId": "bf53df60-06da-43af-e235-9dfb013e2ff9"
      },
      "outputs": [
        {
          "output_type": "stream",
          "name": "stdout",
          "text": [
            "6848/6848 [==============================] - 144s 21ms/step\n"
          ]
        },
        {
          "output_type": "stream",
          "name": "stderr",
          "text": [
            "Exception ignored in: <function Executor.__del__ at 0x7cb4780b6290>\n",
            "Traceback (most recent call last):\n",
            "  File \"/usr/local/lib/python3.10/dist-packages/tensorflow/python/eager/executor.py\", line 46, in __del__\n",
            "    self.wait()\n",
            "  File \"/usr/local/lib/python3.10/dist-packages/tensorflow/python/eager/executor.py\", line 65, in wait\n",
            "    pywrap_tfe.TFE_ExecutorWaitForAllPendingNodes(self._handle)\n",
            "tensorflow.python.framework.errors_impl.OutOfRangeError: End of sequence\n"
          ]
        },
        {
          "output_type": "stream",
          "name": "stdout",
          "text": [
            "              precision    recall  f1-score   support\n",
            "\n",
            "           0       0.99      1.00      0.99    206808\n",
            "           1       0.92      0.83      0.87     12328\n",
            "\n",
            "    accuracy                           0.99    219136\n",
            "   macro avg       0.95      0.91      0.93    219136\n",
            "weighted avg       0.99      0.99      0.99    219136\n",
            "\n"
          ]
        }
      ],
      "source": [
        "y_train_pred = model3.predict(train_ds) >= 0.5\n",
        "\n",
        "y_train = []\n",
        "for i in train_ds:\n",
        "  for j in np.array(i[1]):\n",
        "    y_train.append(j)\n",
        "\n",
        "print(classification_report(y_train, y_train_pred))"
      ]
    },
    {
      "cell_type": "code",
      "execution_count": null,
      "metadata": {
        "colab": {
          "base_uri": "https://localhost:8080/"
        },
        "id": "xh-OJF74AbAY",
        "outputId": "c2ba4095-505f-4d01-a35c-710b1226e9a4"
      },
      "outputs": [
        {
          "output_type": "stream",
          "name": "stdout",
          "text": [
            "[[0]\n",
            " [1]\n",
            " [0]\n",
            " [0]\n",
            " [0]\n",
            " [0]\n",
            " [0]\n",
            " [0]\n",
            " [0]\n",
            " [0]\n",
            " [0]\n",
            " [0]\n",
            " [0]\n",
            " [0]\n",
            " [0]\n",
            " [0]\n",
            " [0]\n",
            " [1]\n",
            " [1]\n",
            " [0]\n",
            " [1]\n",
            " [0]\n",
            " [0]\n",
            " [0]\n",
            " [0]\n",
            " [0]\n",
            " [0]\n",
            " [0]\n",
            " [0]\n",
            " [0]\n",
            " [0]\n",
            " [0]]\n"
          ]
        }
      ],
      "source": [
        "for i in val_ds:\n",
        "  print(np.array(i[1]))      # validation datasinin yapisi\n",
        "  break"
      ]
    },
    {
      "cell_type": "markdown",
      "metadata": {
        "id": "6KqxCplpIqBp"
      },
      "source": [
        "Agirliklandirma islemi yapsaydik asagidaki parametreleri kullanarak su skorlari alacaktik :"
      ]
    },
    {
      "cell_type": "raw",
      "metadata": {
        "id": "kudkOYjaXcMS"
      },
      "source": [
        " #Ağırlıklandırılmış Model ---> dropout(0,1), batchsize = 16, epoch =1, learning rate = 2e-5\n",
        "\n",
        " TEST SET\n",
        " precision    recall  f1-score   support\n",
        "\n",
        "           0       0.99      0.97      0.98     22987\n",
        "           1       0.63      0.89      0.74      1365\n",
        "\n",
        "    accuracy                           0.96     24352\n",
        "   macro avg       0.81      0.93      0.86     24352\n",
        "weighted avg       0.97      0.96      0.97     24352\n",
        "\n",
        "TRAIN SET\n",
        "precision    recall  f1-score   support\n",
        "\n",
        "           0       1.00      0.97      0.99    206825\n",
        "           1       0.69      0.95      0.80     12311\n",
        "\n",
        "    accuracy                           0.97    219136\n",
        "   macro avg       0.84      0.96      0.89    219136\n",
        "weighted avg       0.98      0.97      0.98    219136\n",
        "\n",
        "\n",
        "\n",
        "history = model3.fit(\n",
        "    train_ds, validation_data= val_ds,\n",
        "    epochs=epochs,class_weight=weights)"
      ]
    },
    {
      "cell_type": "markdown",
      "metadata": {
        "id": "GVdM_75GXciM"
      },
      "source": [
        "Modelin genel performansi GRU modelde %73 idi, BERT modelde %89 :"
      ]
    },
    {
      "cell_type": "code",
      "execution_count": null,
      "metadata": {
        "colab": {
          "base_uri": "https://localhost:8080/",
          "height": 489
        },
        "id": "ZFRpVxcuOyk5",
        "outputId": "b49a8e80-8a32-48c5-844c-64bec91976fe"
      },
      "outputs": [
        {
          "output_type": "stream",
          "name": "stdout",
          "text": [
            "761/761 [==============================] - 19s 23ms/step\n"
          ]
        },
        {
          "output_type": "display_data",
          "data": {
            "text/plain": [
              "<Figure size 640x480 with 1 Axes>"
            ],
            "image/png": "[encoded data removed]"
          },
          "metadata": {}
        }
      ],
      "source": [
        "from sklearn.metrics import precision_recall_curve, average_precision_score\n",
        "import matplotlib.pyplot as plt\n",
        "\n",
        "y_pred_proba = model3.predict(val_ds)\n",
        "precision, recall, thresholds = precision_recall_curve(y_test, y_pred_proba)\n",
        "plt.plot([1,0],[0,1],'k--')\n",
        "plt.plot(recall, precision)\n",
        "plt.xlabel('recall')\n",
        "plt.ylabel('precision')\n",
        "plt.title('precision recall curve')\n",
        "plt.show()"
      ]
    },
    {
      "cell_type": "code",
      "execution_count": null,
      "metadata": {
        "colab": {
          "base_uri": "https://localhost:8080/"
        },
        "id": "t2X-rrucPPrX",
        "outputId": "8cb3fa55-9240-4033-bb29-889d94eb1a89"
      },
      "outputs": [
        {
          "output_type": "execute_result",
          "data": {
            "text/plain": [
              "0.8823620228581432"
            ]
          },
          "metadata": {},
          "execution_count": 50
        }
      ],
      "source": [
        "average_precision_score(y_test, y_pred_proba)"
      ]
    },
    {
      "cell_type": "markdown",
      "metadata": {
        "id": "1hQYB1iXIqBq"
      },
      "source": [
        "Kurdugumuz modeli kaydettik :"
      ]
    },
    {
      "cell_type": "code",
      "execution_count": null,
      "metadata": {
        "id": "_B6Sv63_H3we"
      },
      "outputs": [],
      "source": [
        "model3.save(\"sentiment_model_without_weighted.h5\")"
      ]
    },
    {
      "cell_type": "code",
      "execution_count": null,
      "metadata": {
        "id": "tt30PbRkRFBY"
      },
      "outputs": [],
      "source": [
        "!pip install -q tf-models-official"
      ]
    },
    {
      "cell_type": "markdown",
      "metadata": {
        "id": "3KHC6dRRIqBq"
      },
      "source": [
        "Adamw optimizer' in pek fazla tercih edilmedigini yukarida soylemistik. Bunun sebebi bu modeli kaydettikten sonra geri cagirirken hata alinmasi. Hata almamak icin yukaridaki __install__ isleminin mutlaka tekrar yapilmasi gerekir. Sonrasinda import islemlerini yaptiktan sonra model drive' a hangi isimle kaydedildiyse _load_model_ icine bu yazilir ve __custom_object__ asagida yazildigi sekilde eklenir, bu eklenmezse kaydedilen model tekrar load edilemez."
      ]
    },
    {
      "cell_type": "code",
      "execution_count": null,
      "metadata": {
        "id": "X_2ErgJnLKV0",
        "colab": {
          "base_uri": "https://localhost:8080/",
          "height": 269
        },
        "outputId": "51ff50f7-29e1-4b6f-9e6f-749de1d94b47"
      },
      "outputs": [
        {
          "output_type": "error",
          "ename": "ValueError",
          "evalue": "Unknown decay: 'WarmUp'. Please ensure you are using a `keras.utils.custom_object_scope` and that this object is included in the scope. See https://www.tensorflow.org/guide/keras/save_and_serialize#registering_the_custom_object for details.",
          "traceback": [
            "\u001b[0;31m---------------------------------------------------------------------------\u001b[0m",
            "\u001b[0;31mValueError\u001b[0m                                Traceback (most recent call last)",
            "\u001b[0;32m<ipython-input-69-fa36f1e8292f>\u001b[0m in \u001b[0;36m<cell line: 6>\u001b[0;34m()\u001b[0m\n\u001b[1;32m      4\u001b[0m \u001b[0;34m\u001b[0m\u001b[0m\n\u001b[1;32m      5\u001b[0m \u001b[0;34m\u001b[0m\u001b[0m\n\u001b[0;32m----> 6\u001b[0;31m \u001b[0mmodel4\u001b[0m \u001b[0;34m=\u001b[0m \u001b[0mload_model\u001b[0m\u001b[0;34m(\u001b[0m\u001b[0;34m'/content/sentiment_model_without_weighted.h5'\u001b[0m\u001b[0;34m,\u001b[0m \u001b[0mcustom_objects\u001b[0m\u001b[0;34m=\u001b[0m\u001b[0;34m{\u001b[0m\u001b[0;34m'AdamWeightDecay'\u001b[0m\u001b[0;34m:\u001b[0m\u001b[0madamw\u001b[0m\u001b[0;34m.\u001b[0m\u001b[0mAdamWeightDecay\u001b[0m\u001b[0;34m}\u001b[0m\u001b[0;34m)\u001b[0m\u001b[0;34m\u001b[0m\u001b[0;34m\u001b[0m\u001b[0m\n\u001b[0m",
            "\u001b[0;32m/usr/local/lib/python3.10/dist-packages/keras/saving/saving_api.py\u001b[0m in \u001b[0;36mload_model\u001b[0;34m(filepath, custom_objects, compile, safe_mode, **kwargs)\u001b[0m\n",
            "\u001b[0;32m/usr/local/lib/python3.10/dist-packages/keras/utils/traceback_utils.py\u001b[0m in \u001b[0;36merror_handler\u001b[0;34m(*args, **kwargs)\u001b[0m\n",
            "\u001b[0;32m/usr/local/lib/python3.10/dist-packages/keras/saving/legacy/serialization.py\u001b[0m in \u001b[0;36mclass_and_config_for_serialized_keras_object\u001b[0;34m(config, module_objects, custom_objects, printable_module_name)\u001b[0m\n",
            "\u001b[0;31mValueError\u001b[0m: Unknown decay: 'WarmUp'. Please ensure you are using a `keras.utils.custom_object_scope` and that this object is included in the scope. See https://www.tensorflow.org/guide/keras/save_and_serialize#registering_the_custom_object for details."
          ]
        }
      ],
      "source": [
        "import tensorflow as tf\n",
        "import official.nlp.optimization as adamw\n",
        "from tensorflow.keras.models import load_model\n",
        "\n",
        "\n",
        "model4 = load_model('/content/sentiment_model_without_weighted.h5', custom_objects={'AdamWeightDecay':adamw.AdamWeightDecay})"
      ]
    },
    {
      "cell_type": "markdown",
      "metadata": {
        "id": "ovBi4ot8IqBq"
      },
      "source": [
        "Kaydettigimiz modeli lokalden tekrar cagirdik ve artik modelden tahminler alacagiz. Modele verecegimiz yorumlari modele uygun yapiya donusturmemiz gerekiyor. Bunun icin prediction alacagimiz datayi __prep_data__ fonksiyonu ile tanimladik ki yorumlari tokenlerine ayirip tensor formatina donusturebilelim. Buradaki islemin yukaridakinden tek farki, tokenizer.encode_plus icine __return_tensors='tf'__ da tanimlamamizdir. Bunun ile \"Tensorflow formatinda tensor' a donustur\" demis olduk. (tf yerine pt yazilirsa Pytorch formatina donusturur. Biz Tensorflow uzerinde calistigimiz icin tf olarak belirtmek zorundayiz)."
      ]
    },
    {
      "cell_type": "markdown",
      "metadata": {
        "id": "zcVekXQhIqBq"
      },
      "source": [
        "Olusturdugumuz __prep_data__ fonksiyonu ile prediction icin verecegimiz yorumlarin hepsi input_ids ve attention_mask' e donusturulecek."
      ]
    },
    {
      "cell_type": "markdown",
      "metadata": {
        "id": "amG3FJb6IqBq"
      },
      "source": [
        "__return__ islemi ile inputlarin input_ids ve attention_mask' e donusturmesi icin komutu verdik."
      ]
    },
    {
      "cell_type": "code",
      "execution_count": null,
      "metadata": {
        "id": "yaARaSiXEstW"
      },
      "outputs": [],
      "source": [
        "# initialize tokenizer from transformers\n",
        "from transformers import AutoTokenizer, TFAutoModel\n",
        "\n",
        "tokenizers = AutoTokenizer.from_pretrained(\"dbmdz/bert-base-turkish-cased\")\n",
        "\n",
        "def prep_data(text):\n",
        "    # tokenize to get input IDs and attention mask tensors\n",
        "    tokens = tokenizers.encode_plus(text.lower(), max_length=160,\n",
        "                                   truncation=True, padding='max_length',\n",
        "                                   add_special_tokens=True,\n",
        "                                   return_tensors='tf')\n",
        "\n",
        "    return {'input_ids': tokens['input_ids'],      #tf.cast(tokens['input_ids'], tf.int32)\n",
        "            'attention_mask': tokens['attention_mask']} #tf.cast(tokens['attention_mask'], tf.int32)"
      ]
    },
    {
      "cell_type": "markdown",
      "metadata": {
        "id": "JiGecrLAIqBq"
      },
      "source": [
        "Asagida modeli yaniltabilecek bircok prediction ornegi tanimladik."
      ]
    },
    {
      "cell_type": "markdown",
      "metadata": {
        "id": "cw4gT3Z2IqBq"
      },
      "source": [
        "Asagidaki yorumlarin hepsini reviews degiskeninin icine attik :"
      ]
    },
    {
      "cell_type": "code",
      "execution_count": null,
      "metadata": {
        "id": "-tbmF2a5QZHD"
      },
      "outputs": [],
      "source": [
        "review1 = \"çok beğendim herkese tavsiye ederim\"\n",
        "review2 = \"süper ürün aynı gün elime geçti\"\n",
        "review3 = \"büyük bir hayal kırıklığı yaşadım bu ürünü bu markaya yakıştıramadım\"\n",
        "review4 = \"kelimelerle tarif edilemez\"\n",
        "review5 = \"tasarımı harika ancak kargo çok geç geldi ve ürün açılmıştı hayal kırıklığı gerçekten\"\n",
        "review6 = \"hiç resimde gösterildiği gibi değil\"\n",
        "review7 = \"kötü yorumlar gözümü korkutmuştu ancak hiçbir sorun yaşamadım teşekkürler\"\n",
        "review8 = \"hiç bu kadar kötü bir satıcıya denk gelmemiştim ürün siparişimi iptal ediyorum\"\n",
        "review9 = \"tam bir fiyat performans ürünü\"\n",
        "review10 = \"beklediğim gibi çıkmadı\"\n",
        "review11 = \"on numara beş yıldız\"\n",
        "review12 = \"bu kargoyu biran önce bırakın. yoksa üründe sıkıntı yok\"\n",
        "review13 = \"televizyonun görüntü kalitesi çok kötü, dün akşam evde arkadaşlarla toplandık. yedik, içtik, sohbet ettik. Sonra televizyonda Türkiye - İngiltere maçını seyrettik. \"\n",
        "review14 = '1 gün gibi kısa bir sürede elime geçti. Ve bu fıyata süper bir ürün tavsiye ederim. Lakin eli büyük olan kişiler daha büyük modelini tercih edebilirler ortaboy ürün. Teşekkürler '\n",
        "review15 = \"alınca anlarsın anyayı konyayı\"\n",
        "review16 = \"çöpe atacak paran varsa alabilirsin\"\n",
        "review17= \"Telefon fena değil\"\n",
        "review18 = \"al da gününü gör\"\n",
        "review19 = \"Ürün süper ama satıcı ve kargo berbat\"\n",
        "review20= \"kargo süper ama ürün berbat\"\n",
        "review21 = \"Aldigim TV cok kaliteli diye dusunmustum, sonradan cok da iyi bir TV olmadigini dusundum, ama neyse yine de memnunum.\"\n",
        "reviews = [review1, review2, review3, review4, review5, review6, review7, review8, review9, review10, review11, review12, review13, review14, review15, review16, review17, review18, review19, review20, review21]"
      ]
    },
    {
      "cell_type": "markdown",
      "metadata": {
        "id": "B5zdK6-CIqBq"
      },
      "source": [
        "Asagidaki for dongusu ile : \"reviews listesi icindeki her bir yorumu al, prep_data fonksiyonu icine atarak tensorler haline cevir, model4.predict ile bunlarin predictionlarini yap ve buldugun sonuclari probs listesine at.\" dedik."
      ]
    },
    {
      "cell_type": "markdown",
      "metadata": {
        "id": "H7mVW2fXIqBq"
      },
      "source": [
        "__[0][0] -->__ predict islemi sonucu iki boyutlu array' ler olusuyor fakat biz sadece array icindeki skorlari almak istedigimiz icin indexleme islemi yapiyoruz."
      ]
    },
    {
      "cell_type": "code",
      "execution_count": null,
      "metadata": {
        "id": "7fecjxatQayR",
        "colab": {
          "base_uri": "https://localhost:8080/"
        },
        "outputId": "3cb4ac65-fbf6-434e-a65d-75e9d58869d1"
      },
      "outputs": [
        {
          "output_type": "stream",
          "name": "stdout",
          "text": [
            "1/1 [==============================] - 14s 14s/step\n",
            "1/1 [==============================] - 2s 2s/step\n",
            "1/1 [==============================] - 1s 1s/step\n",
            "1/1 [==============================] - 1s 1s/step\n",
            "1/1 [==============================] - 1s 809ms/step\n",
            "1/1 [==============================] - 1s 1s/step\n",
            "1/1 [==============================] - 1s 622ms/step\n",
            "1/1 [==============================] - 1s 632ms/step\n",
            "1/1 [==============================] - 1s 613ms/step\n",
            "1/1 [==============================] - 1s 621ms/step\n",
            "1/1 [==============================] - 1s 636ms/step\n",
            "1/1 [==============================] - 1s 752ms/step\n",
            "1/1 [==============================] - 1s 624ms/step\n",
            "1/1 [==============================] - 1s 628ms/step\n",
            "1/1 [==============================] - 1s 613ms/step\n",
            "1/1 [==============================] - 1s 780ms/step\n",
            "1/1 [==============================] - 1s 799ms/step\n",
            "1/1 [==============================] - 1s 811ms/step\n",
            "1/1 [==============================] - 1s 715ms/step\n",
            "1/1 [==============================] - 1s 627ms/step\n",
            "1/1 [==============================] - 1s 619ms/step\n"
          ]
        }
      ],
      "source": [
        "probs = []\n",
        "for i in reviews:\n",
        "\n",
        "  in_tensor = prep_data(i)\n",
        "\n",
        "  prob = model3.predict(in_tensor)[0][0]\n",
        "\n",
        "  probs.append(prob)"
      ]
    },
    {
      "cell_type": "markdown",
      "metadata": {
        "id": "Gcl5Y3RhIqBq"
      },
      "source": [
        "Asagida her bir yorum sonucu olusan olasilik degerleri var. 0' a yakin olanlar olumlu, 1' e yakin olanlar ise olumsuz yorumlar :"
      ]
    },
    {
      "cell_type": "code",
      "execution_count": null,
      "metadata": {
        "colab": {
          "base_uri": "https://localhost:8080/"
        },
        "id": "TMaJLPfQEwlz",
        "outputId": "b8e5cdd6-411b-4419-82e0-c4b5352475dd"
      },
      "outputs": [
        {
          "output_type": "execute_result",
          "data": {
            "text/plain": [
              "[0.0004786551,\n",
              " 0.00063967705,\n",
              " 0.9948493,\n",
              " 0.0010980368,\n",
              " 0.6820523,\n",
              " 0.9941728,\n",
              " 0.0013686419,\n",
              " 0.988831,\n",
              " 0.00042262673,\n",
              " 0.9952968,\n",
              " 0.00069886446,\n",
              " 0.06503254,\n",
              " 0.96416676,\n",
              " 0.0027583241,\n",
              " 0.004379809,\n",
              " 0.03820783,\n",
              " 0.11895338,\n",
              " 0.0040067732,\n",
              " 0.028638184,\n",
              " 0.6524924,\n",
              " 0.010313749]"
            ]
          },
          "metadata": {},
          "execution_count": 71
        }
      ],
      "source": [
        "probs"
      ]
    },
    {
      "cell_type": "markdown",
      "metadata": {
        "id": "NKn_HUxdIqBr"
      },
      "source": [
        "0.5 degrinden kucuk olanlari 0 class' ina, buyuk olanlari 1 class' ina at :"
      ]
    },
    {
      "cell_type": "code",
      "execution_count": null,
      "metadata": {
        "colab": {
          "base_uri": "https://localhost:8080/"
        },
        "id": "dxgMYBczYyNC",
        "outputId": "8f390bd3-955b-43e2-e8e8-258a64a892a4"
      },
      "outputs": [
        {
          "output_type": "execute_result",
          "data": {
            "text/plain": [
              "array([0, 0, 1, 0, 1, 1, 0, 1, 0, 1, 0, 0, 1, 0, 0, 0, 0, 0, 0, 1, 0])"
            ]
          },
          "metadata": {},
          "execution_count": 72
        }
      ],
      "source": [
        "classes  = (np.array(probs) >= 0.5).astype(\"int\")\n",
        "classes"
      ]
    },
    {
      "cell_type": "markdown",
      "metadata": {
        "id": "-3fBtoUIIqBr"
      },
      "source": [
        "Predict icin verilen yorumlar olan review, predict islemi sonucu elde edilen olasilik degerleri olan prob ve bu prob' lardan elde edilen classes' lari bir dict icine atip DataFrame' e donusturduk :"
      ]
    },
    {
      "cell_type": "code",
      "execution_count": null,
      "metadata": {
        "id": "IgH72FPhYyBr"
      },
      "outputs": [],
      "source": [
        "my_dict = {\"Review\":reviews, \"prob\":probs, \"classes\":classes}"
      ]
    },
    {
      "cell_type": "markdown",
      "metadata": {
        "id": "nx5o97X2IqBr"
      },
      "source": [
        "__pd.set_option('display.max_colwidth', None) -->__ Yorumlari oldugu gibi gorebilmek icin kullandik. (None yerine -1 yazilabilir.)"
      ]
    },
    {
      "cell_type": "markdown",
      "metadata": {
        "id": "hVjQjwpvIqBr"
      },
      "source": [
        "Bazi yorumlari anlamak zor olmasina ragmen model cogu tahmini dogru bildi. Sadece corpus' ta hic gecmeyen kelimeleri tahmin edememis :"
      ]
    },
    {
      "cell_type": "code",
      "execution_count": null,
      "metadata": {
        "colab": {
          "base_uri": "https://localhost:8080/",
          "height": 742
        },
        "id": "TLeukDeMYx1o",
        "outputId": "34a6ea94-9f96-4365-a991-f5208bcd7d59"
      },
      "outputs": [
        {
          "output_type": "execute_result",
          "data": {
            "text/plain": [
              "                                                                                                                                                                                Review  \\\n",
              "0                                                                                                                                                  çok beğendim herkese tavsiye ederim   \n",
              "1                                                                                                                                                      süper ürün aynı gün elime geçti   \n",
              "2                                                                                                                 büyük bir hayal kırıklığı yaşadım bu ürünü bu markaya yakıştıramadım   \n",
              "3                                                                                                                                                           kelimelerle tarif edilemez   \n",
              "4                                                                                                tasarımı harika ancak kargo çok geç geldi ve ürün açılmıştı hayal kırıklığı gerçekten   \n",
              "5                                                                                                                                                  hiç resimde gösterildiği gibi değil   \n",
              "6                                                                                                            kötü yorumlar gözümü korkutmuştu ancak hiçbir sorun yaşamadım teşekkürler   \n",
              "7                                                                                                       hiç bu kadar kötü bir satıcıya denk gelmemiştim ürün siparişimi iptal ediyorum   \n",
              "8                                                                                                                                                       tam bir fiyat performans ürünü   \n",
              "9                                                                                                                                                              beklediğim gibi çıkmadı   \n",
              "10                                                                                                                                                                on numara beş yıldız   \n",
              "11                                                                                                                             bu kargoyu biran önce bırakın. yoksa üründe sıkıntı yok   \n",
              "12                televizyonun görüntü kalitesi çok kötü, dün akşam evde arkadaşlarla toplandık. yedik, içtik, sohbet ettik. Sonra televizyonda Türkiye - İngiltere maçını seyrettik.    \n",
              "13  1 gün gibi kısa bir sürede elime geçti. Ve bu fıyata süper bir ürün tavsiye ederim. Lakin eli büyük olan kişiler daha büyük modelini tercih edebilirler ortaboy ürün. Teşekkürler    \n",
              "14                                                                                                                                                      alınca anlarsın anyayı konyayı   \n",
              "15                                                                                                                                                 çöpe atacak paran varsa alabilirsin   \n",
              "16                                                                                                                                                                  Telefon fena değil   \n",
              "17                                                                                                                                                                    al da gününü gör   \n",
              "18                                                                                                                                               Ürün süper ama satıcı ve kargo berbat   \n",
              "19                                                                                                                                                         kargo süper ama ürün berbat   \n",
              "20                                                               Aldigim TV cok kaliteli diye dusunmustum, sonradan cok da iyi bir TV olmadigini dusundum, ama neyse yine de memnunum.   \n",
              "\n",
              "        prob  classes  \n",
              "0   0.000479        0  \n",
              "1   0.000640        0  \n",
              "2   0.994849        1  \n",
              "3   0.001098        0  \n",
              "4   0.682052        1  \n",
              "5   0.994173        1  \n",
              "6   0.001369        0  \n",
              "7   0.988831        1  \n",
              "8   0.000423        0  \n",
              "9   0.995297        1  \n",
              "10  0.000699        0  \n",
              "11  0.065033        0  \n",
              "12  0.964167        1  \n",
              "13  0.002758        0  \n",
              "14  0.004380        0  \n",
              "15  0.038208        0  \n",
              "16  0.118953        0  \n",
              "17  0.004007        0  \n",
              "18  0.028638        0  \n",
              "19  0.652492        1  \n",
              "20  0.010314        0  "
            ],
            "text/html": [
              "\n",
              "  <div id=\"df-a89f2a03-8a51-4879-9b8d-f31533a2041a\" class=\"colab-df-container\">\n",
              "    <div>\n",
              "<style scoped>\n",
              "    .dataframe tbody tr th:only-of-type {\n",
              "        vertical-align: middle;\n",
              "    }\n",
              "\n",
              "    .dataframe tbody tr th {\n",
              "        vertical-align: top;\n",
              "    }\n",
              "\n",
              "    .dataframe thead th {\n",
              "        text-align: right;\n",
              "    }\n",
              "</style>\n",
              "<table border=\"1\" class=\"dataframe\">\n",
              "  <thead>\n",
              "    <tr style=\"text-align: right;\">\n",
              "      <th></th>\n",
              "      <th>Review</th>\n",
              "      <th>prob</th>\n",
              "      <th>classes</th>\n",
              "    </tr>\n",
              "  </thead>\n",
              "  <tbody>\n",
              "    <tr>\n",
              "      <th>0</th>\n",
              "      <td>çok beğendim herkese tavsiye ederim</td>\n",
              "      <td>0.000479</td>\n",
              "      <td>0</td>\n",
              "    </tr>\n",
              "    <tr>\n",
              "      <th>1</th>\n",
              "      <td>süper ürün aynı gün elime geçti</td>\n",
              "      <td>0.000640</td>\n",
              "      <td>0</td>\n",
              "    </tr>\n",
              "    <tr>\n",
              "      <th>2</th>\n",
              "      <td>büyük bir hayal kırıklığı yaşadım bu ürünü bu markaya yakıştıramadım</td>\n",
              "      <td>0.994849</td>\n",
              "      <td>1</td>\n",
              "    </tr>\n",
              "    <tr>\n",
              "      <th>3</th>\n",
              "      <td>kelimelerle tarif edilemez</td>\n",
              "      <td>0.001098</td>\n",
              "      <td>0</td>\n",
              "    </tr>\n",
              "    <tr>\n",
              "      <th>4</th>\n",
              "      <td>tasarımı harika ancak kargo çok geç geldi ve ürün açılmıştı hayal kırıklığı gerçekten</td>\n",
              "      <td>0.682052</td>\n",
              "      <td>1</td>\n",
              "    </tr>\n",
              "    <tr>\n",
              "      <th>5</th>\n",
              "      <td>hiç resimde gösterildiği gibi değil</td>\n",
              "      <td>0.994173</td>\n",
              "      <td>1</td>\n",
              "    </tr>\n",
              "    <tr>\n",
              "      <th>6</th>\n",
              "      <td>kötü yorumlar gözümü korkutmuştu ancak hiçbir sorun yaşamadım teşekkürler</td>\n",
              "      <td>0.001369</td>\n",
              "      <td>0</td>\n",
              "    </tr>\n",
              "    <tr>\n",
              "      <th>7</th>\n",
              "      <td>hiç bu kadar kötü bir satıcıya denk gelmemiştim ürün siparişimi iptal ediyorum</td>\n",
              "      <td>0.988831</td>\n",
              "      <td>1</td>\n",
              "    </tr>\n",
              "    <tr>\n",
              "      <th>8</th>\n",
              "      <td>tam bir fiyat performans ürünü</td>\n",
              "      <td>0.000423</td>\n",
              "      <td>0</td>\n",
              "    </tr>\n",
              "    <tr>\n",
              "      <th>9</th>\n",
              "      <td>beklediğim gibi çıkmadı</td>\n",
              "      <td>0.995297</td>\n",
              "      <td>1</td>\n",
              "    </tr>\n",
              "    <tr>\n",
              "      <th>10</th>\n",
              "      <td>on numara beş yıldız</td>\n",
              "      <td>0.000699</td>\n",
              "      <td>0</td>\n",
              "    </tr>\n",
              "    <tr>\n",
              "      <th>11</th>\n",
              "      <td>bu kargoyu biran önce bırakın. yoksa üründe sıkıntı yok</td>\n",
              "      <td>0.065033</td>\n",
              "      <td>0</td>\n",
              "    </tr>\n",
              "    <tr>\n",
              "      <th>12</th>\n",
              "      <td>televizyonun görüntü kalitesi çok kötü, dün akşam evde arkadaşlarla toplandık. yedik, içtik, sohbet ettik. Sonra televizyonda Türkiye - İngiltere maçını seyrettik.</td>\n",
              "      <td>0.964167</td>\n",
              "      <td>1</td>\n",
              "    </tr>\n",
              "    <tr>\n",
              "      <th>13</th>\n",
              "      <td>1 gün gibi kısa bir sürede elime geçti. Ve bu fıyata süper bir ürün tavsiye ederim. Lakin eli büyük olan kişiler daha büyük modelini tercih edebilirler ortaboy ürün. Teşekkürler</td>\n",
              "      <td>0.002758</td>\n",
              "      <td>0</td>\n",
              "    </tr>\n",
              "    <tr>\n",
              "      <th>14</th>\n",
              "      <td>alınca anlarsın anyayı konyayı</td>\n",
              "      <td>0.004380</td>\n",
              "      <td>0</td>\n",
              "    </tr>\n",
              "    <tr>\n",
              "      <th>15</th>\n",
              "      <td>çöpe atacak paran varsa alabilirsin</td>\n",
              "      <td>0.038208</td>\n",
              "      <td>0</td>\n",
              "    </tr>\n",
              "    <tr>\n",
              "      <th>16</th>\n",
              "      <td>Telefon fena değil</td>\n",
              "      <td>0.118953</td>\n",
              "      <td>0</td>\n",
              "    </tr>\n",
              "    <tr>\n",
              "      <th>17</th>\n",
              "      <td>al da gününü gör</td>\n",
              "      <td>0.004007</td>\n",
              "      <td>0</td>\n",
              "    </tr>\n",
              "    <tr>\n",
              "      <th>18</th>\n",
              "      <td>Ürün süper ama satıcı ve kargo berbat</td>\n",
              "      <td>0.028638</td>\n",
              "      <td>0</td>\n",
              "    </tr>\n",
              "    <tr>\n",
              "      <th>19</th>\n",
              "      <td>kargo süper ama ürün berbat</td>\n",
              "      <td>0.652492</td>\n",
              "      <td>1</td>\n",
              "    </tr>\n",
              "    <tr>\n",
              "      <th>20</th>\n",
              "      <td>Aldigim TV cok kaliteli diye dusunmustum, sonradan cok da iyi bir TV olmadigini dusundum, ama neyse yine de memnunum.</td>\n",
              "      <td>0.010314</td>\n",
              "      <td>0</td>\n",
              "    </tr>\n",
              "  </tbody>\n",
              "</table>\n",
              "</div>\n",
              "    <div class=\"colab-df-buttons\">\n",
              "\n",
              "  <div class=\"colab-df-container\">\n",
              "    <button class=\"colab-df-convert\" onclick=\"convertToInteractive('df-a89f2a03-8a51-4879-9b8d-f31533a2041a')\"\n",
              "            title=\"Convert this dataframe to an interactive table.\"\n",
              "            style=\"display:none;\">\n",
              "\n",
              "  <svg xmlns=\"http://www.w3.org/2000/svg\" height=\"24px\" viewBox=\"0 -960 960 960\">\n",
              "    <path d=\"M120-120v-720h720v720H120Zm60-500h600v-160H180v160Zm220 220h160v-160H400v160Zm0 220h160v-160H400v160ZM180-400h160v-160H180v160Zm440 0h160v-160H620v160ZM180-180h160v-160H180v160Zm440 0h160v-160H620v160Z\"/>\n",
              "  </svg>\n",
              "    </button>\n",
              "\n",
              "  <style>\n",
              "    .colab-df-container {\n",
              "      display:flex;\n",
              "      gap: 12px;\n",
              "    }\n",
              "\n",
              "    .colab-df-convert {\n",
              "      background-color: #E8F0FE;\n",
              "      border: none;\n",
              "      border-radius: 50%;\n",
              "      cursor: pointer;\n",
              "      display: none;\n",
              "      fill: #1967D2;\n",
              "      height: 32px;\n",
              "      padding: 0 0 0 0;\n",
              "      width: 32px;\n",
              "    }\n",
              "\n",
              "    .colab-df-convert:hover {\n",
              "      background-color: #E2EBFA;\n",
              "      box-shadow: 0px 1px 2px rgba(60, 64, 67, 0.3), 0px 1px 3px 1px rgba(60, 64, 67, 0.15);\n",
              "      fill: #174EA6;\n",
              "    }\n",
              "\n",
              "    .colab-df-buttons div {\n",
              "      margin-bottom: 4px;\n",
              "    }\n",
              "\n",
              "    [theme=dark] .colab-df-convert {\n",
              "      background-color: #3B4455;\n",
              "      fill: #D2E3FC;\n",
              "    }\n",
              "\n",
              "    [theme=dark] .colab-df-convert:hover {\n",
              "      background-color: #434B5C;\n",
              "      box-shadow: 0px 1px 3px 1px rgba(0, 0, 0, 0.15);\n",
              "      filter: drop-shadow(0px 1px 2px rgba(0, 0, 0, 0.3));\n",
              "      fill: #FFFFFF;\n",
              "    }\n",
              "  </style>\n",
              "\n",
              "    <script>\n",
              "      const buttonEl =\n",
              "        document.querySelector('#df-a89f2a03-8a51-4879-9b8d-f31533a2041a button.colab-df-convert');\n",
              "      buttonEl.style.display =\n",
              "        google.colab.kernel.accessAllowed ? 'block' : 'none';\n",
              "\n",
              "      async function convertToInteractive(key) {\n",
              "        const element = document.querySelector('#df-a89f2a03-8a51-4879-9b8d-f31533a2041a');\n",
              "        const dataTable =\n",
              "          await google.colab.kernel.invokeFunction('convertToInteractive',\n",
              "                                                    [key], {});\n",
              "        if (!dataTable) return;\n",
              "\n",
              "        const docLinkHtml = 'Like what you see? Visit the ' +\n",
              "          '<a target=\"_blank\" href=https://colab.research.google.com/notebooks/data_table.ipynb>data table notebook</a>'\n",
              "          + ' to learn more about interactive tables.';\n",
              "        element.innerHTML = '';\n",
              "        dataTable['output_type'] = 'display_data';\n",
              "        await google.colab.output.renderOutput(dataTable, element);\n",
              "        const docLink = document.createElement('div');\n",
              "        docLink.innerHTML = docLinkHtml;\n",
              "        element.appendChild(docLink);\n",
              "      }\n",
              "    </script>\n",
              "  </div>\n",
              "\n",
              "\n",
              "<div id=\"df-ba9c9923-23f7-44f0-89f4-3a752c44b6e4\">\n",
              "  <button class=\"colab-df-quickchart\" onclick=\"quickchart('df-ba9c9923-23f7-44f0-89f4-3a752c44b6e4')\"\n",
              "            title=\"Suggest charts\"\n",
              "            style=\"display:none;\">\n",
              "\n",
              "<svg xmlns=\"http://www.w3.org/2000/svg\" height=\"24px\"viewBox=\"0 0 24 24\"\n",
              "     width=\"24px\">\n",
              "    <g>\n",
              "        <path d=\"M19 3H5c-1.1 0-2 .9-2 2v14c0 1.1.9 2 2 2h14c1.1 0 2-.9 2-2V5c0-1.1-.9-2-2-2zM9 17H7v-7h2v7zm4 0h-2V7h2v10zm4 0h-2v-4h2v4z\"/>\n",
              "    </g>\n",
              "</svg>\n",
              "  </button>\n",
              "\n",
              "<style>\n",
              "  .colab-df-quickchart {\n",
              "      --bg-color: #E8F0FE;\n",
              "      --fill-color: #1967D2;\n",
              "      --hover-bg-color: #E2EBFA;\n",
              "      --hover-fill-color: #174EA6;\n",
              "      --disabled-fill-color: #AAA;\n",
              "      --disabled-bg-color: #DDD;\n",
              "  }\n",
              "\n",
              "  [theme=dark] .colab-df-quickchart {\n",
              "      --bg-color: #3B4455;\n",
              "      --fill-color: #D2E3FC;\n",
              "      --hover-bg-color: #434B5C;\n",
              "      --hover-fill-color: #FFFFFF;\n",
              "      --disabled-bg-color: #3B4455;\n",
              "      --disabled-fill-color: #666;\n",
              "  }\n",
              "\n",
              "  .colab-df-quickchart {\n",
              "    background-color: var(--bg-color);\n",
              "    border: none;\n",
              "    border-radius: 50%;\n",
              "    cursor: pointer;\n",
              "    display: none;\n",
              "    fill: var(--fill-color);\n",
              "    height: 32px;\n",
              "    padding: 0;\n",
              "    width: 32px;\n",
              "  }\n",
              "\n",
              "  .colab-df-quickchart:hover {\n",
              "    background-color: var(--hover-bg-color);\n",
              "    box-shadow: 0 1px 2px rgba(60, 64, 67, 0.3), 0 1px 3px 1px rgba(60, 64, 67, 0.15);\n",
              "    fill: var(--button-hover-fill-color);\n",
              "  }\n",
              "\n",
              "  .colab-df-quickchart-complete:disabled,\n",
              "  .colab-df-quickchart-complete:disabled:hover {\n",
              "    background-color: var(--disabled-bg-color);\n",
              "    fill: var(--disabled-fill-color);\n",
              "    box-shadow: none;\n",
              "  }\n",
              "\n",
              "  .colab-df-spinner {\n",
              "    border: 2px solid var(--fill-color);\n",
              "    border-color: transparent;\n",
              "    border-bottom-color: var(--fill-color);\n",
              "    animation:\n",
              "      spin 1s steps(1) infinite;\n",
              "  }\n",
              "\n",
              "  @keyframes spin {\n",
              "    0% {\n",
              "      border-color: transparent;\n",
              "      border-bottom-color: var(--fill-color);\n",
              "      border-left-color: var(--fill-color);\n",
              "    }\n",
              "    20% {\n",
              "      border-color: transparent;\n",
              "      border-left-color: var(--fill-color);\n",
              "      border-top-color: var(--fill-color);\n",
              "    }\n",
              "    30% {\n",
              "      border-color: transparent;\n",
              "      border-left-color: var(--fill-color);\n",
              "      border-top-color: var(--fill-color);\n",
              "      border-right-color: var(--fill-color);\n",
              "    }\n",
              "    40% {\n",
              "      border-color: transparent;\n",
              "      border-right-color: var(--fill-color);\n",
              "      border-top-color: var(--fill-color);\n",
              "    }\n",
              "    60% {\n",
              "      border-color: transparent;\n",
              "      border-right-color: var(--fill-color);\n",
              "    }\n",
              "    80% {\n",
              "      border-color: transparent;\n",
              "      border-right-color: var(--fill-color);\n",
              "      border-bottom-color: var(--fill-color);\n",
              "    }\n",
              "    90% {\n",
              "      border-color: transparent;\n",
              "      border-bottom-color: var(--fill-color);\n",
              "    }\n",
              "  }\n",
              "</style>\n",
              "\n",
              "  <script>\n",
              "    async function quickchart(key) {\n",
              "      const quickchartButtonEl =\n",
              "        document.querySelector('#' + key + ' button');\n",
              "      quickchartButtonEl.disabled = true;  // To prevent multiple clicks.\n",
              "      quickchartButtonEl.classList.add('colab-df-spinner');\n",
              "      try {\n",
              "        const charts = await google.colab.kernel.invokeFunction(\n",
              "            'suggestCharts', [key], {});\n",
              "      } catch (error) {\n",
              "        console.error('Error during call to suggestCharts:', error);\n",
              "      }\n",
              "      quickchartButtonEl.classList.remove('colab-df-spinner');\n",
              "      quickchartButtonEl.classList.add('colab-df-quickchart-complete');\n",
              "    }\n",
              "    (() => {\n",
              "      let quickchartButtonEl =\n",
              "        document.querySelector('#df-ba9c9923-23f7-44f0-89f4-3a752c44b6e4 button');\n",
              "      quickchartButtonEl.style.display =\n",
              "        google.colab.kernel.accessAllowed ? 'block' : 'none';\n",
              "    })();\n",
              "  </script>\n",
              "</div>\n",
              "\n",
              "    </div>\n",
              "  </div>\n"
            ],
            "application/vnd.google.colaboratory.intrinsic+json": {
              "type": "dataframe",
              "summary": "{\n  \"name\": \"pd\",\n  \"rows\": 21,\n  \"fields\": [\n    {\n      \"column\": \"Review\",\n      \"properties\": {\n        \"dtype\": \"string\",\n        \"num_unique_values\": 21,\n        \"samples\": [\n          \"\\u00e7ok be\\u011fendim herkese tavsiye ederim\",\n          \"al da g\\u00fcn\\u00fcn\\u00fc g\\u00f6r\",\n          \"\\u00e7\\u00f6pe atacak paran varsa alabilirsin\"\n        ],\n        \"semantic_type\": \"\",\n        \"description\": \"\"\n      }\n    },\n    {\n      \"column\": \"prob\",\n      \"properties\": {\n        \"dtype\": \"float32\",\n        \"num_unique_values\": 21,\n        \"samples\": [\n          0.0004786550998687744,\n          0.004006773233413696,\n          0.038207828998565674\n        ],\n        \"semantic_type\": \"\",\n        \"description\": \"\"\n      }\n    },\n    {\n      \"column\": \"classes\",\n      \"properties\": {\n        \"dtype\": \"number\",\n        \"std\": 0,\n        \"min\": 0,\n        \"max\": 1,\n        \"num_unique_values\": 2,\n        \"samples\": [\n          1,\n          0\n        ],\n        \"semantic_type\": \"\",\n        \"description\": \"\"\n      }\n    }\n  ]\n}"
            }
          },
          "metadata": {},
          "execution_count": 74
        }
      ],
      "source": [
        "pd.set_option('display.max_colwidth', None)\n",
        "pd.DataFrame(my_dict)"
      ]
    },
    {
      "cell_type": "markdown",
      "metadata": {
        "id": "47MVRzcdjG2k"
      },
      "source": [
        "![image.png](attachment:image.png)"
      ]
    },
    {
      "cell_type": "code",
      "execution_count": null,
      "metadata": {
        "id": "A5cC4hVHIqBr"
      },
      "outputs": [],
      "source": []
    }
  ],
  "metadata": {
    "accelerator": "TPU",
    "colab": {
      "provenance": [],
      "include_colab_link": true
    },
    "kernelspec": {
      "display_name": "Python 3 (ipykernel)",
      "language": "python",
      "name": "python3"
    },
    "language_info": {
      "codemirror_mode": {
        "name": "ipython",
        "version": 3
      },
      "file_extension": ".py",
      "mimetype": "text/x-python",
      "name": "python",
      "nbconvert_exporter": "python",
      "pygments_lexer": "ipython3",
      "version": "3.9.7"
    },
    "widgets": {
      "application/vnd.jupyter.widget-state+json": {
        "7cb7a414340a46e3925d83b7597c670b": {
          "model_module": "@jupyter-widgets/controls",
          "model_name": "HBoxModel",
          "model_module_version": "1.5.0",
          "state": {
            "_dom_classes": [],
            "_model_module": "@jupyter-widgets/controls",
            "_model_module_version": "1.5.0",
            "_model_name": "HBoxModel",
            "_view_count": null,
            "_view_module": "@jupyter-widgets/controls",
            "_view_module_version": "1.5.0",
            "_view_name": "HBoxView",
            "box_style": "",
            "children": [
              "IPY_MODEL_0850ef02bd6246e9beda41e936b81598",
              "IPY_MODEL_74f73487cdf24a66bcd98bb25483bf9a",
              "IPY_MODEL_8bdbb93a787a44c3bf49aec85e481442"
            ],
            "layout": "IPY_MODEL_6ee5b2c2c3b04394979ce7208b8368c9"
          }
        },
        "0850ef02bd6246e9beda41e936b81598": {
          "model_module": "@jupyter-widgets/controls",
          "model_name": "HTMLModel",
          "model_module_version": "1.5.0",
          "state": {
            "_dom_classes": [],
            "_model_module": "@jupyter-widgets/controls",
            "_model_module_version": "1.5.0",
            "_model_name": "HTMLModel",
            "_view_count": null,
            "_view_module": "@jupyter-widgets/controls",
            "_view_module_version": "1.5.0",
            "_view_name": "HTMLView",
            "description": "",
            "description_tooltip": null,
            "layout": "IPY_MODEL_52c3ba6c179244f1b25e52902e2937b8",
            "placeholder": "​",
            "style": "IPY_MODEL_148d558b0e554e35a408b27f6eba6825",
            "value": "tokenizer_config.json: 100%"
          }
        },
        "74f73487cdf24a66bcd98bb25483bf9a": {
          "model_module": "@jupyter-widgets/controls",
          "model_name": "FloatProgressModel",
          "model_module_version": "1.5.0",
          "state": {
            "_dom_classes": [],
            "_model_module": "@jupyter-widgets/controls",
            "_model_module_version": "1.5.0",
            "_model_name": "FloatProgressModel",
            "_view_count": null,
            "_view_module": "@jupyter-widgets/controls",
            "_view_module_version": "1.5.0",
            "_view_name": "ProgressView",
            "bar_style": "success",
            "description": "",
            "description_tooltip": null,
            "layout": "IPY_MODEL_83e868c148814133a74533597c342593",
            "max": 60,
            "min": 0,
            "orientation": "horizontal",
            "style": "IPY_MODEL_d6d6b2f14d634d25b546b153ee34d9d3",
            "value": 60
          }
        },
        "8bdbb93a787a44c3bf49aec85e481442": {
          "model_module": "@jupyter-widgets/controls",
          "model_name": "HTMLModel",
          "model_module_version": "1.5.0",
          "state": {
            "_dom_classes": [],
            "_model_module": "@jupyter-widgets/controls",
            "_model_module_version": "1.5.0",
            "_model_name": "HTMLModel",
            "_view_count": null,
            "_view_module": "@jupyter-widgets/controls",
            "_view_module_version": "1.5.0",
            "_view_name": "HTMLView",
            "description": "",
            "description_tooltip": null,
            "layout": "IPY_MODEL_32ec5f7a46194bd98e604cb999ab580c",
            "placeholder": "​",
            "style": "IPY_MODEL_fdaf4df765434375982da92f54bc8d7b",
            "value": " 60.0/60.0 [00:00&lt;00:00, 3.03kB/s]"
          }
        },
        "6ee5b2c2c3b04394979ce7208b8368c9": {
          "model_module": "@jupyter-widgets/base",
          "model_name": "LayoutModel",
          "model_module_version": "1.2.0",
          "state": {
            "_model_module": "@jupyter-widgets/base",
            "_model_module_version": "1.2.0",
            "_model_name": "LayoutModel",
            "_view_count": null,
            "_view_module": "@jupyter-widgets/base",
            "_view_module_version": "1.2.0",
            "_view_name": "LayoutView",
            "align_content": null,
            "align_items": null,
            "align_self": null,
            "border": null,
            "bottom": null,
            "display": null,
            "flex": null,
            "flex_flow": null,
            "grid_area": null,
            "grid_auto_columns": null,
            "grid_auto_flow": null,
            "grid_auto_rows": null,
            "grid_column": null,
            "grid_gap": null,
            "grid_row": null,
            "grid_template_areas": null,
            "grid_template_columns": null,
            "grid_template_rows": null,
            "height": null,
            "justify_content": null,
            "justify_items": null,
            "left": null,
            "margin": null,
            "max_height": null,
            "max_width": null,
            "min_height": null,
            "min_width": null,
            "object_fit": null,
            "object_position": null,
            "order": null,
            "overflow": null,
            "overflow_x": null,
            "overflow_y": null,
            "padding": null,
            "right": null,
            "top": null,
            "visibility": null,
            "width": null
          }
        },
        "52c3ba6c179244f1b25e52902e2937b8": {
          "model_module": "@jupyter-widgets/base",
          "model_name": "LayoutModel",
          "model_module_version": "1.2.0",
          "state": {
            "_model_module": "@jupyter-widgets/base",
            "_model_module_version": "1.2.0",
            "_model_name": "LayoutModel",
            "_view_count": null,
            "_view_module": "@jupyter-widgets/base",
            "_view_module_version": "1.2.0",
            "_view_name": "LayoutView",
            "align_content": null,
            "align_items": null,
            "align_self": null,
            "border": null,
            "bottom": null,
            "display": null,
            "flex": null,
            "flex_flow": null,
            "grid_area": null,
            "grid_auto_columns": null,
            "grid_auto_flow": null,
            "grid_auto_rows": null,
            "grid_column": null,
            "grid_gap": null,
            "grid_row": null,
            "grid_template_areas": null,
            "grid_template_columns": null,
            "grid_template_rows": null,
            "height": null,
            "justify_content": null,
            "justify_items": null,
            "left": null,
            "margin": null,
            "max_height": null,
            "max_width": null,
            "min_height": null,
            "min_width": null,
            "object_fit": null,
            "object_position": null,
            "order": null,
            "overflow": null,
            "overflow_x": null,
            "overflow_y": null,
            "padding": null,
            "right": null,
            "top": null,
            "visibility": null,
            "width": null
          }
        },
        "148d558b0e554e35a408b27f6eba6825": {
          "model_module": "@jupyter-widgets/controls",
          "model_name": "DescriptionStyleModel",
          "model_module_version": "1.5.0",
          "state": {
            "_model_module": "@jupyter-widgets/controls",
            "_model_module_version": "1.5.0",
            "_model_name": "DescriptionStyleModel",
            "_view_count": null,
            "_view_module": "@jupyter-widgets/base",
            "_view_module_version": "1.2.0",
            "_view_name": "StyleView",
            "description_width": ""
          }
        },
        "83e868c148814133a74533597c342593": {
          "model_module": "@jupyter-widgets/base",
          "model_name": "LayoutModel",
          "model_module_version": "1.2.0",
          "state": {
            "_model_module": "@jupyter-widgets/base",
            "_model_module_version": "1.2.0",
            "_model_name": "LayoutModel",
            "_view_count": null,
            "_view_module": "@jupyter-widgets/base",
            "_view_module_version": "1.2.0",
            "_view_name": "LayoutView",
            "align_content": null,
            "align_items": null,
            "align_self": null,
            "border": null,
            "bottom": null,
            "display": null,
            "flex": null,
            "flex_flow": null,
            "grid_area": null,
            "grid_auto_columns": null,
            "grid_auto_flow": null,
            "grid_auto_rows": null,
            "grid_column": null,
            "grid_gap": null,
            "grid_row": null,
            "grid_template_areas": null,
            "grid_template_columns": null,
            "grid_template_rows": null,
            "height": null,
            "justify_content": null,
            "justify_items": null,
            "left": null,
            "margin": null,
            "max_height": null,
            "max_width": null,
            "min_height": null,
            "min_width": null,
            "object_fit": null,
            "object_position": null,
            "order": null,
            "overflow": null,
            "overflow_x": null,
            "overflow_y": null,
            "padding": null,
            "right": null,
            "top": null,
            "visibility": null,
            "width": null
          }
        },
        "d6d6b2f14d634d25b546b153ee34d9d3": {
          "model_module": "@jupyter-widgets/controls",
          "model_name": "ProgressStyleModel",
          "model_module_version": "1.5.0",
          "state": {
            "_model_module": "@jupyter-widgets/controls",
            "_model_module_version": "1.5.0",
            "_model_name": "ProgressStyleModel",
            "_view_count": null,
            "_view_module": "@jupyter-widgets/base",
            "_view_module_version": "1.2.0",
            "_view_name": "StyleView",
            "bar_color": null,
            "description_width": ""
          }
        },
        "32ec5f7a46194bd98e604cb999ab580c": {
          "model_module": "@jupyter-widgets/base",
          "model_name": "LayoutModel",
          "model_module_version": "1.2.0",
          "state": {
            "_model_module": "@jupyter-widgets/base",
            "_model_module_version": "1.2.0",
            "_model_name": "LayoutModel",
            "_view_count": null,
            "_view_module": "@jupyter-widgets/base",
            "_view_module_version": "1.2.0",
            "_view_name": "LayoutView",
            "align_content": null,
            "align_items": null,
            "align_self": null,
            "border": null,
            "bottom": null,
            "display": null,
            "flex": null,
            "flex_flow": null,
            "grid_area": null,
            "grid_auto_columns": null,
            "grid_auto_flow": null,
            "grid_auto_rows": null,
            "grid_column": null,
            "grid_gap": null,
            "grid_row": null,
            "grid_template_areas": null,
            "grid_template_columns": null,
            "grid_template_rows": null,
            "height": null,
            "justify_content": null,
            "justify_items": null,
            "left": null,
            "margin": null,
            "max_height": null,
            "max_width": null,
            "min_height": null,
            "min_width": null,
            "object_fit": null,
            "object_position": null,
            "order": null,
            "overflow": null,
            "overflow_x": null,
            "overflow_y": null,
            "padding": null,
            "right": null,
            "top": null,
            "visibility": null,
            "width": null
          }
        },
        "fdaf4df765434375982da92f54bc8d7b": {
          "model_module": "@jupyter-widgets/controls",
          "model_name": "DescriptionStyleModel",
          "model_module_version": "1.5.0",
          "state": {
            "_model_module": "@jupyter-widgets/controls",
            "_model_module_version": "1.5.0",
            "_model_name": "DescriptionStyleModel",
            "_view_count": null,
            "_view_module": "@jupyter-widgets/base",
            "_view_module_version": "1.2.0",
            "_view_name": "StyleView",
            "description_width": ""
          }
        },
        "b27b368ee3ee4b37a6833ef162989a10": {
          "model_module": "@jupyter-widgets/controls",
          "model_name": "HBoxModel",
          "model_module_version": "1.5.0",
          "state": {
            "_dom_classes": [],
            "_model_module": "@jupyter-widgets/controls",
            "_model_module_version": "1.5.0",
            "_model_name": "HBoxModel",
            "_view_count": null,
            "_view_module": "@jupyter-widgets/controls",
            "_view_module_version": "1.5.0",
            "_view_name": "HBoxView",
            "box_style": "",
            "children": [
              "IPY_MODEL_52bbf7e1ce0440b4b7ae65f2d4905165",
              "IPY_MODEL_2f188c3cd24f420b9d32102d090a4b15",
              "IPY_MODEL_99b9d5e930c144708aa30ddbb91d7e5b"
            ],
            "layout": "IPY_MODEL_0a6280cabc334ab7a9fa726fd4b04b4a"
          }
        },
        "52bbf7e1ce0440b4b7ae65f2d4905165": {
          "model_module": "@jupyter-widgets/controls",
          "model_name": "HTMLModel",
          "model_module_version": "1.5.0",
          "state": {
            "_dom_classes": [],
            "_model_module": "@jupyter-widgets/controls",
            "_model_module_version": "1.5.0",
            "_model_name": "HTMLModel",
            "_view_count": null,
            "_view_module": "@jupyter-widgets/controls",
            "_view_module_version": "1.5.0",
            "_view_name": "HTMLView",
            "description": "",
            "description_tooltip": null,
            "layout": "IPY_MODEL_4f38aa006c724e5391edc5fc117d45b1",
            "placeholder": "​",
            "style": "IPY_MODEL_0d5927ddee5546ca8779328311f91ff1",
            "value": "config.json: 100%"
          }
        },
        "2f188c3cd24f420b9d32102d090a4b15": {
          "model_module": "@jupyter-widgets/controls",
          "model_name": "FloatProgressModel",
          "model_module_version": "1.5.0",
          "state": {
            "_dom_classes": [],
            "_model_module": "@jupyter-widgets/controls",
            "_model_module_version": "1.5.0",
            "_model_name": "FloatProgressModel",
            "_view_count": null,
            "_view_module": "@jupyter-widgets/controls",
            "_view_module_version": "1.5.0",
            "_view_name": "ProgressView",
            "bar_style": "success",
            "description": "",
            "description_tooltip": null,
            "layout": "IPY_MODEL_0a2be0407ae740bc8ff8c15a39e04694",
            "max": 385,
            "min": 0,
            "orientation": "horizontal",
            "style": "IPY_MODEL_45174c20913144399b9223b176f29bd0",
            "value": 385
          }
        },
        "99b9d5e930c144708aa30ddbb91d7e5b": {
          "model_module": "@jupyter-widgets/controls",
          "model_name": "HTMLModel",
          "model_module_version": "1.5.0",
          "state": {
            "_dom_classes": [],
            "_model_module": "@jupyter-widgets/controls",
            "_model_module_version": "1.5.0",
            "_model_name": "HTMLModel",
            "_view_count": null,
            "_view_module": "@jupyter-widgets/controls",
            "_view_module_version": "1.5.0",
            "_view_name": "HTMLView",
            "description": "",
            "description_tooltip": null,
            "layout": "IPY_MODEL_48050615766a4e26b4aeb35152cd6a31",
            "placeholder": "​",
            "style": "IPY_MODEL_73348accdfc34f2788d77be7ef263736",
            "value": " 385/385 [00:00&lt;00:00, 16.8kB/s]"
          }
        },
        "0a6280cabc334ab7a9fa726fd4b04b4a": {
          "model_module": "@jupyter-widgets/base",
          "model_name": "LayoutModel",
          "model_module_version": "1.2.0",
          "state": {
            "_model_module": "@jupyter-widgets/base",
            "_model_module_version": "1.2.0",
            "_model_name": "LayoutModel",
            "_view_count": null,
            "_view_module": "@jupyter-widgets/base",
            "_view_module_version": "1.2.0",
            "_view_name": "LayoutView",
            "align_content": null,
            "align_items": null,
            "align_self": null,
            "border": null,
            "bottom": null,
            "display": null,
            "flex": null,
            "flex_flow": null,
            "grid_area": null,
            "grid_auto_columns": null,
            "grid_auto_flow": null,
            "grid_auto_rows": null,
            "grid_column": null,
            "grid_gap": null,
            "grid_row": null,
            "grid_template_areas": null,
            "grid_template_columns": null,
            "grid_template_rows": null,
            "height": null,
            "justify_content": null,
            "justify_items": null,
            "left": null,
            "margin": null,
            "max_height": null,
            "max_width": null,
            "min_height": null,
            "min_width": null,
            "object_fit": null,
            "object_position": null,
            "order": null,
            "overflow": null,
            "overflow_x": null,
            "overflow_y": null,
            "padding": null,
            "right": null,
            "top": null,
            "visibility": null,
            "width": null
          }
        },
        "4f38aa006c724e5391edc5fc117d45b1": {
          "model_module": "@jupyter-widgets/base",
          "model_name": "LayoutModel",
          "model_module_version": "1.2.0",
          "state": {
            "_model_module": "@jupyter-widgets/base",
            "_model_module_version": "1.2.0",
            "_model_name": "LayoutModel",
            "_view_count": null,
            "_view_module": "@jupyter-widgets/base",
            "_view_module_version": "1.2.0",
            "_view_name": "LayoutView",
            "align_content": null,
            "align_items": null,
            "align_self": null,
            "border": null,
            "bottom": null,
            "display": null,
            "flex": null,
            "flex_flow": null,
            "grid_area": null,
            "grid_auto_columns": null,
            "grid_auto_flow": null,
            "grid_auto_rows": null,
            "grid_column": null,
            "grid_gap": null,
            "grid_row": null,
            "grid_template_areas": null,
            "grid_template_columns": null,
            "grid_template_rows": null,
            "height": null,
            "justify_content": null,
            "justify_items": null,
            "left": null,
            "margin": null,
            "max_height": null,
            "max_width": null,
            "min_height": null,
            "min_width": null,
            "object_fit": null,
            "object_position": null,
            "order": null,
            "overflow": null,
            "overflow_x": null,
            "overflow_y": null,
            "padding": null,
            "right": null,
            "top": null,
            "visibility": null,
            "width": null
          }
        },
        "0d5927ddee5546ca8779328311f91ff1": {
          "model_module": "@jupyter-widgets/controls",
          "model_name": "DescriptionStyleModel",
          "model_module_version": "1.5.0",
          "state": {
            "_model_module": "@jupyter-widgets/controls",
            "_model_module_version": "1.5.0",
            "_model_name": "DescriptionStyleModel",
            "_view_count": null,
            "_view_module": "@jupyter-widgets/base",
            "_view_module_version": "1.2.0",
            "_view_name": "StyleView",
            "description_width": ""
          }
        },
        "0a2be0407ae740bc8ff8c15a39e04694": {
          "model_module": "@jupyter-widgets/base",
          "model_name": "LayoutModel",
          "model_module_version": "1.2.0",
          "state": {
            "_model_module": "@jupyter-widgets/base",
            "_model_module_version": "1.2.0",
            "_model_name": "LayoutModel",
            "_view_count": null,
            "_view_module": "@jupyter-widgets/base",
            "_view_module_version": "1.2.0",
            "_view_name": "LayoutView",
            "align_content": null,
            "align_items": null,
            "align_self": null,
            "border": null,
            "bottom": null,
            "display": null,
            "flex": null,
            "flex_flow": null,
            "grid_area": null,
            "grid_auto_columns": null,
            "grid_auto_flow": null,
            "grid_auto_rows": null,
            "grid_column": null,
            "grid_gap": null,
            "grid_row": null,
            "grid_template_areas": null,
            "grid_template_columns": null,
            "grid_template_rows": null,
            "height": null,
            "justify_content": null,
            "justify_items": null,
            "left": null,
            "margin": null,
            "max_height": null,
            "max_width": null,
            "min_height": null,
            "min_width": null,
            "object_fit": null,
            "object_position": null,
            "order": null,
            "overflow": null,
            "overflow_x": null,
            "overflow_y": null,
            "padding": null,
            "right": null,
            "top": null,
            "visibility": null,
            "width": null
          }
        },
        "45174c20913144399b9223b176f29bd0": {
          "model_module": "@jupyter-widgets/controls",
          "model_name": "ProgressStyleModel",
          "model_module_version": "1.5.0",
          "state": {
            "_model_module": "@jupyter-widgets/controls",
            "_model_module_version": "1.5.0",
            "_model_name": "ProgressStyleModel",
            "_view_count": null,
            "_view_module": "@jupyter-widgets/base",
            "_view_module_version": "1.2.0",
            "_view_name": "StyleView",
            "bar_color": null,
            "description_width": ""
          }
        },
        "48050615766a4e26b4aeb35152cd6a31": {
          "model_module": "@jupyter-widgets/base",
          "model_name": "LayoutModel",
          "model_module_version": "1.2.0",
          "state": {
            "_model_module": "@jupyter-widgets/base",
            "_model_module_version": "1.2.0",
            "_model_name": "LayoutModel",
            "_view_count": null,
            "_view_module": "@jupyter-widgets/base",
            "_view_module_version": "1.2.0",
            "_view_name": "LayoutView",
            "align_content": null,
            "align_items": null,
            "align_self": null,
            "border": null,
            "bottom": null,
            "display": null,
            "flex": null,
            "flex_flow": null,
            "grid_area": null,
            "grid_auto_columns": null,
            "grid_auto_flow": null,
            "grid_auto_rows": null,
            "grid_column": null,
            "grid_gap": null,
            "grid_row": null,
            "grid_template_areas": null,
            "grid_template_columns": null,
            "grid_template_rows": null,
            "height": null,
            "justify_content": null,
            "justify_items": null,
            "left": null,
            "margin": null,
            "max_height": null,
            "max_width": null,
            "min_height": null,
            "min_width": null,
            "object_fit": null,
            "object_position": null,
            "order": null,
            "overflow": null,
            "overflow_x": null,
            "overflow_y": null,
            "padding": null,
            "right": null,
            "top": null,
            "visibility": null,
            "width": null
          }
        },
        "73348accdfc34f2788d77be7ef263736": {
          "model_module": "@jupyter-widgets/controls",
          "model_name": "DescriptionStyleModel",
          "model_module_version": "1.5.0",
          "state": {
            "_model_module": "@jupyter-widgets/controls",
            "_model_module_version": "1.5.0",
            "_model_name": "DescriptionStyleModel",
            "_view_count": null,
            "_view_module": "@jupyter-widgets/base",
            "_view_module_version": "1.2.0",
            "_view_name": "StyleView",
            "description_width": ""
          }
        },
        "00813c0a826549d79f1e08354da7a52e": {
          "model_module": "@jupyter-widgets/controls",
          "model_name": "HBoxModel",
          "model_module_version": "1.5.0",
          "state": {
            "_dom_classes": [],
            "_model_module": "@jupyter-widgets/controls",
            "_model_module_version": "1.5.0",
            "_model_name": "HBoxModel",
            "_view_count": null,
            "_view_module": "@jupyter-widgets/controls",
            "_view_module_version": "1.5.0",
            "_view_name": "HBoxView",
            "box_style": "",
            "children": [
              "IPY_MODEL_cff6445239c045e9b69c825713d8175a",
              "IPY_MODEL_ba469826ba2e415dbf5c05aa4632ff17",
              "IPY_MODEL_f7d388a74d48428a8553847e0c17e924"
            ],
            "layout": "IPY_MODEL_2ea93da8a4cb455cbf3a11554cae1f42"
          }
        },
        "cff6445239c045e9b69c825713d8175a": {
          "model_module": "@jupyter-widgets/controls",
          "model_name": "HTMLModel",
          "model_module_version": "1.5.0",
          "state": {
            "_dom_classes": [],
            "_model_module": "@jupyter-widgets/controls",
            "_model_module_version": "1.5.0",
            "_model_name": "HTMLModel",
            "_view_count": null,
            "_view_module": "@jupyter-widgets/controls",
            "_view_module_version": "1.5.0",
            "_view_name": "HTMLView",
            "description": "",
            "description_tooltip": null,
            "layout": "IPY_MODEL_2d49ba0975534c54b65c7fe09e7a8c6c",
            "placeholder": "​",
            "style": "IPY_MODEL_88af19cdf1714eacaf59ac9a2559a138",
            "value": "vocab.txt: 100%"
          }
        },
        "ba469826ba2e415dbf5c05aa4632ff17": {
          "model_module": "@jupyter-widgets/controls",
          "model_name": "FloatProgressModel",
          "model_module_version": "1.5.0",
          "state": {
            "_dom_classes": [],
            "_model_module": "@jupyter-widgets/controls",
            "_model_module_version": "1.5.0",
            "_model_name": "FloatProgressModel",
            "_view_count": null,
            "_view_module": "@jupyter-widgets/controls",
            "_view_module_version": "1.5.0",
            "_view_name": "ProgressView",
            "bar_style": "success",
            "description": "",
            "description_tooltip": null,
            "layout": "IPY_MODEL_e132d5c5b83e4309b9a5f81245ba8de0",
            "max": 251003,
            "min": 0,
            "orientation": "horizontal",
            "style": "IPY_MODEL_1e248857f5624981a3404e31ac8d60ed",
            "value": 251003
          }
        },
        "f7d388a74d48428a8553847e0c17e924": {
          "model_module": "@jupyter-widgets/controls",
          "model_name": "HTMLModel",
          "model_module_version": "1.5.0",
          "state": {
            "_dom_classes": [],
            "_model_module": "@jupyter-widgets/controls",
            "_model_module_version": "1.5.0",
            "_model_name": "HTMLModel",
            "_view_count": null,
            "_view_module": "@jupyter-widgets/controls",
            "_view_module_version": "1.5.0",
            "_view_name": "HTMLView",
            "description": "",
            "description_tooltip": null,
            "layout": "IPY_MODEL_badc5ad2ff9245d5b956a681010fc9b9",
            "placeholder": "​",
            "style": "IPY_MODEL_b78afc32d5a14061a45318310dcaf1cb",
            "value": " 251k/251k [00:00&lt;00:00, 5.22MB/s]"
          }
        },
        "2ea93da8a4cb455cbf3a11554cae1f42": {
          "model_module": "@jupyter-widgets/base",
          "model_name": "LayoutModel",
          "model_module_version": "1.2.0",
          "state": {
            "_model_module": "@jupyter-widgets/base",
            "_model_module_version": "1.2.0",
            "_model_name": "LayoutModel",
            "_view_count": null,
            "_view_module": "@jupyter-widgets/base",
            "_view_module_version": "1.2.0",
            "_view_name": "LayoutView",
            "align_content": null,
            "align_items": null,
            "align_self": null,
            "border": null,
            "bottom": null,
            "display": null,
            "flex": null,
            "flex_flow": null,
            "grid_area": null,
            "grid_auto_columns": null,
            "grid_auto_flow": null,
            "grid_auto_rows": null,
            "grid_column": null,
            "grid_gap": null,
            "grid_row": null,
            "grid_template_areas": null,
            "grid_template_columns": null,
            "grid_template_rows": null,
            "height": null,
            "justify_content": null,
            "justify_items": null,
            "left": null,
            "margin": null,
            "max_height": null,
            "max_width": null,
            "min_height": null,
            "min_width": null,
            "object_fit": null,
            "object_position": null,
            "order": null,
            "overflow": null,
            "overflow_x": null,
            "overflow_y": null,
            "padding": null,
            "right": null,
            "top": null,
            "visibility": null,
            "width": null
          }
        },
        "2d49ba0975534c54b65c7fe09e7a8c6c": {
          "model_module": "@jupyter-widgets/base",
          "model_name": "LayoutModel",
          "model_module_version": "1.2.0",
          "state": {
            "_model_module": "@jupyter-widgets/base",
            "_model_module_version": "1.2.0",
            "_model_name": "LayoutModel",
            "_view_count": null,
            "_view_module": "@jupyter-widgets/base",
            "_view_module_version": "1.2.0",
            "_view_name": "LayoutView",
            "align_content": null,
            "align_items": null,
            "align_self": null,
            "border": null,
            "bottom": null,
            "display": null,
            "flex": null,
            "flex_flow": null,
            "grid_area": null,
            "grid_auto_columns": null,
            "grid_auto_flow": null,
            "grid_auto_rows": null,
            "grid_column": null,
            "grid_gap": null,
            "grid_row": null,
            "grid_template_areas": null,
            "grid_template_columns": null,
            "grid_template_rows": null,
            "height": null,
            "justify_content": null,
            "justify_items": null,
            "left": null,
            "margin": null,
            "max_height": null,
            "max_width": null,
            "min_height": null,
            "min_width": null,
            "object_fit": null,
            "object_position": null,
            "order": null,
            "overflow": null,
            "overflow_x": null,
            "overflow_y": null,
            "padding": null,
            "right": null,
            "top": null,
            "visibility": null,
            "width": null
          }
        },
        "88af19cdf1714eacaf59ac9a2559a138": {
          "model_module": "@jupyter-widgets/controls",
          "model_name": "DescriptionStyleModel",
          "model_module_version": "1.5.0",
          "state": {
            "_model_module": "@jupyter-widgets/controls",
            "_model_module_version": "1.5.0",
            "_model_name": "DescriptionStyleModel",
            "_view_count": null,
            "_view_module": "@jupyter-widgets/base",
            "_view_module_version": "1.2.0",
            "_view_name": "StyleView",
            "description_width": ""
          }
        },
        "e132d5c5b83e4309b9a5f81245ba8de0": {
          "model_module": "@jupyter-widgets/base",
          "model_name": "LayoutModel",
          "model_module_version": "1.2.0",
          "state": {
            "_model_module": "@jupyter-widgets/base",
            "_model_module_version": "1.2.0",
            "_model_name": "LayoutModel",
            "_view_count": null,
            "_view_module": "@jupyter-widgets/base",
            "_view_module_version": "1.2.0",
            "_view_name": "LayoutView",
            "align_content": null,
            "align_items": null,
            "align_self": null,
            "border": null,
            "bottom": null,
            "display": null,
            "flex": null,
            "flex_flow": null,
            "grid_area": null,
            "grid_auto_columns": null,
            "grid_auto_flow": null,
            "grid_auto_rows": null,
            "grid_column": null,
            "grid_gap": null,
            "grid_row": null,
            "grid_template_areas": null,
            "grid_template_columns": null,
            "grid_template_rows": null,
            "height": null,
            "justify_content": null,
            "justify_items": null,
            "left": null,
            "margin": null,
            "max_height": null,
            "max_width": null,
            "min_height": null,
            "min_width": null,
            "object_fit": null,
            "object_position": null,
            "order": null,
            "overflow": null,
            "overflow_x": null,
            "overflow_y": null,
            "padding": null,
            "right": null,
            "top": null,
            "visibility": null,
            "width": null
          }
        },
        "1e248857f5624981a3404e31ac8d60ed": {
          "model_module": "@jupyter-widgets/controls",
          "model_name": "ProgressStyleModel",
          "model_module_version": "1.5.0",
          "state": {
            "_model_module": "@jupyter-widgets/controls",
            "_model_module_version": "1.5.0",
            "_model_name": "ProgressStyleModel",
            "_view_count": null,
            "_view_module": "@jupyter-widgets/base",
            "_view_module_version": "1.2.0",
            "_view_name": "StyleView",
            "bar_color": null,
            "description_width": ""
          }
        },
        "badc5ad2ff9245d5b956a681010fc9b9": {
          "model_module": "@jupyter-widgets/base",
          "model_name": "LayoutModel",
          "model_module_version": "1.2.0",
          "state": {
            "_model_module": "@jupyter-widgets/base",
            "_model_module_version": "1.2.0",
            "_model_name": "LayoutModel",
            "_view_count": null,
            "_view_module": "@jupyter-widgets/base",
            "_view_module_version": "1.2.0",
            "_view_name": "LayoutView",
            "align_content": null,
            "align_items": null,
            "align_self": null,
            "border": null,
            "bottom": null,
            "display": null,
            "flex": null,
            "flex_flow": null,
            "grid_area": null,
            "grid_auto_columns": null,
            "grid_auto_flow": null,
            "grid_auto_rows": null,
            "grid_column": null,
            "grid_gap": null,
            "grid_row": null,
            "grid_template_areas": null,
            "grid_template_columns": null,
            "grid_template_rows": null,
            "height": null,
            "justify_content": null,
            "justify_items": null,
            "left": null,
            "margin": null,
            "max_height": null,
            "max_width": null,
            "min_height": null,
            "min_width": null,
            "object_fit": null,
            "object_position": null,
            "order": null,
            "overflow": null,
            "overflow_x": null,
            "overflow_y": null,
            "padding": null,
            "right": null,
            "top": null,
            "visibility": null,
            "width": null
          }
        },
        "b78afc32d5a14061a45318310dcaf1cb": {
          "model_module": "@jupyter-widgets/controls",
          "model_name": "DescriptionStyleModel",
          "model_module_version": "1.5.0",
          "state": {
            "_model_module": "@jupyter-widgets/controls",
            "_model_module_version": "1.5.0",
            "_model_name": "DescriptionStyleModel",
            "_view_count": null,
            "_view_module": "@jupyter-widgets/base",
            "_view_module_version": "1.2.0",
            "_view_name": "StyleView",
            "description_width": ""
          }
        },
        "85d7419c8f58478f87d97e9b4bd2cb22": {
          "model_module": "@jupyter-widgets/controls",
          "model_name": "HBoxModel",
          "model_module_version": "1.5.0",
          "state": {
            "_dom_classes": [],
            "_model_module": "@jupyter-widgets/controls",
            "_model_module_version": "1.5.0",
            "_model_name": "HBoxModel",
            "_view_count": null,
            "_view_module": "@jupyter-widgets/controls",
            "_view_module_version": "1.5.0",
            "_view_name": "HBoxView",
            "box_style": "",
            "children": [
              "IPY_MODEL_cb8e62b3260c40498220d9c844e4297b",
              "IPY_MODEL_a794098aab794135b1a62aceb0b2f620",
              "IPY_MODEL_0ed3fcb3b9584c2d9df99ba347970416"
            ],
            "layout": "IPY_MODEL_b3019d82fde1437fadac48f068020e1b"
          }
        },
        "cb8e62b3260c40498220d9c844e4297b": {
          "model_module": "@jupyter-widgets/controls",
          "model_name": "HTMLModel",
          "model_module_version": "1.5.0",
          "state": {
            "_dom_classes": [],
            "_model_module": "@jupyter-widgets/controls",
            "_model_module_version": "1.5.0",
            "_model_name": "HTMLModel",
            "_view_count": null,
            "_view_module": "@jupyter-widgets/controls",
            "_view_module_version": "1.5.0",
            "_view_name": "HTMLView",
            "description": "",
            "description_tooltip": null,
            "layout": "IPY_MODEL_8f2f00dedcf54707835071d5cc2a3acc",
            "placeholder": "​",
            "style": "IPY_MODEL_98f588b0f40242818caa0d54dbb211b0",
            "value": "tf_model.h5: 100%"
          }
        },
        "a794098aab794135b1a62aceb0b2f620": {
          "model_module": "@jupyter-widgets/controls",
          "model_name": "FloatProgressModel",
          "model_module_version": "1.5.0",
          "state": {
            "_dom_classes": [],
            "_model_module": "@jupyter-widgets/controls",
            "_model_module_version": "1.5.0",
            "_model_name": "FloatProgressModel",
            "_view_count": null,
            "_view_module": "@jupyter-widgets/controls",
            "_view_module_version": "1.5.0",
            "_view_name": "ProgressView",
            "bar_style": "success",
            "description": "",
            "description_tooltip": null,
            "layout": "IPY_MODEL_f7336579f385476797a4dcc9ba4e7e49",
            "max": 545150592,
            "min": 0,
            "orientation": "horizontal",
            "style": "IPY_MODEL_c5b78085bee941b58527a4d321541539",
            "value": 545150592
          }
        },
        "0ed3fcb3b9584c2d9df99ba347970416": {
          "model_module": "@jupyter-widgets/controls",
          "model_name": "HTMLModel",
          "model_module_version": "1.5.0",
          "state": {
            "_dom_classes": [],
            "_model_module": "@jupyter-widgets/controls",
            "_model_module_version": "1.5.0",
            "_model_name": "HTMLModel",
            "_view_count": null,
            "_view_module": "@jupyter-widgets/controls",
            "_view_module_version": "1.5.0",
            "_view_name": "HTMLView",
            "description": "",
            "description_tooltip": null,
            "layout": "IPY_MODEL_27c6fb82b3ff40e4ba574220cf3eabb6",
            "placeholder": "​",
            "style": "IPY_MODEL_f06362d727ff4ec9b7d9af960ca772cf",
            "value": " 545M/545M [00:06&lt;00:00, 125MB/s]"
          }
        },
        "b3019d82fde1437fadac48f068020e1b": {
          "model_module": "@jupyter-widgets/base",
          "model_name": "LayoutModel",
          "model_module_version": "1.2.0",
          "state": {
            "_model_module": "@jupyter-widgets/base",
            "_model_module_version": "1.2.0",
            "_model_name": "LayoutModel",
            "_view_count": null,
            "_view_module": "@jupyter-widgets/base",
            "_view_module_version": "1.2.0",
            "_view_name": "LayoutView",
            "align_content": null,
            "align_items": null,
            "align_self": null,
            "border": null,
            "bottom": null,
            "display": null,
            "flex": null,
            "flex_flow": null,
            "grid_area": null,
            "grid_auto_columns": null,
            "grid_auto_flow": null,
            "grid_auto_rows": null,
            "grid_column": null,
            "grid_gap": null,
            "grid_row": null,
            "grid_template_areas": null,
            "grid_template_columns": null,
            "grid_template_rows": null,
            "height": null,
            "justify_content": null,
            "justify_items": null,
            "left": null,
            "margin": null,
            "max_height": null,
            "max_width": null,
            "min_height": null,
            "min_width": null,
            "object_fit": null,
            "object_position": null,
            "order": null,
            "overflow": null,
            "overflow_x": null,
            "overflow_y": null,
            "padding": null,
            "right": null,
            "top": null,
            "visibility": null,
            "width": null
          }
        },
        "8f2f00dedcf54707835071d5cc2a3acc": {
          "model_module": "@jupyter-widgets/base",
          "model_name": "LayoutModel",
          "model_module_version": "1.2.0",
          "state": {
            "_model_module": "@jupyter-widgets/base",
            "_model_module_version": "1.2.0",
            "_model_name": "LayoutModel",
            "_view_count": null,
            "_view_module": "@jupyter-widgets/base",
            "_view_module_version": "1.2.0",
            "_view_name": "LayoutView",
            "align_content": null,
            "align_items": null,
            "align_self": null,
            "border": null,
            "bottom": null,
            "display": null,
            "flex": null,
            "flex_flow": null,
            "grid_area": null,
            "grid_auto_columns": null,
            "grid_auto_flow": null,
            "grid_auto_rows": null,
            "grid_column": null,
            "grid_gap": null,
            "grid_row": null,
            "grid_template_areas": null,
            "grid_template_columns": null,
            "grid_template_rows": null,
            "height": null,
            "justify_content": null,
            "justify_items": null,
            "left": null,
            "margin": null,
            "max_height": null,
            "max_width": null,
            "min_height": null,
            "min_width": null,
            "object_fit": null,
            "object_position": null,
            "order": null,
            "overflow": null,
            "overflow_x": null,
            "overflow_y": null,
            "padding": null,
            "right": null,
            "top": null,
            "visibility": null,
            "width": null
          }
        },
        "98f588b0f40242818caa0d54dbb211b0": {
          "model_module": "@jupyter-widgets/controls",
          "model_name": "DescriptionStyleModel",
          "model_module_version": "1.5.0",
          "state": {
            "_model_module": "@jupyter-widgets/controls",
            "_model_module_version": "1.5.0",
            "_model_name": "DescriptionStyleModel",
            "_view_count": null,
            "_view_module": "@jupyter-widgets/base",
            "_view_module_version": "1.2.0",
            "_view_name": "StyleView",
            "description_width": ""
          }
        },
        "f7336579f385476797a4dcc9ba4e7e49": {
          "model_module": "@jupyter-widgets/base",
          "model_name": "LayoutModel",
          "model_module_version": "1.2.0",
          "state": {
            "_model_module": "@jupyter-widgets/base",
            "_model_module_version": "1.2.0",
            "_model_name": "LayoutModel",
            "_view_count": null,
            "_view_module": "@jupyter-widgets/base",
            "_view_module_version": "1.2.0",
            "_view_name": "LayoutView",
            "align_content": null,
            "align_items": null,
            "align_self": null,
            "border": null,
            "bottom": null,
            "display": null,
            "flex": null,
            "flex_flow": null,
            "grid_area": null,
            "grid_auto_columns": null,
            "grid_auto_flow": null,
            "grid_auto_rows": null,
            "grid_column": null,
            "grid_gap": null,
            "grid_row": null,
            "grid_template_areas": null,
            "grid_template_columns": null,
            "grid_template_rows": null,
            "height": null,
            "justify_content": null,
            "justify_items": null,
            "left": null,
            "margin": null,
            "max_height": null,
            "max_width": null,
            "min_height": null,
            "min_width": null,
            "object_fit": null,
            "object_position": null,
            "order": null,
            "overflow": null,
            "overflow_x": null,
            "overflow_y": null,
            "padding": null,
            "right": null,
            "top": null,
            "visibility": null,
            "width": null
          }
        },
        "c5b78085bee941b58527a4d321541539": {
          "model_module": "@jupyter-widgets/controls",
          "model_name": "ProgressStyleModel",
          "model_module_version": "1.5.0",
          "state": {
            "_model_module": "@jupyter-widgets/controls",
            "_model_module_version": "1.5.0",
            "_model_name": "ProgressStyleModel",
            "_view_count": null,
            "_view_module": "@jupyter-widgets/base",
            "_view_module_version": "1.2.0",
            "_view_name": "StyleView",
            "bar_color": null,
            "description_width": ""
          }
        },
        "27c6fb82b3ff40e4ba574220cf3eabb6": {
          "model_module": "@jupyter-widgets/base",
          "model_name": "LayoutModel",
          "model_module_version": "1.2.0",
          "state": {
            "_model_module": "@jupyter-widgets/base",
            "_model_module_version": "1.2.0",
            "_model_name": "LayoutModel",
            "_view_count": null,
            "_view_module": "@jupyter-widgets/base",
            "_view_module_version": "1.2.0",
            "_view_name": "LayoutView",
            "align_content": null,
            "align_items": null,
            "align_self": null,
            "border": null,
            "bottom": null,
            "display": null,
            "flex": null,
            "flex_flow": null,
            "grid_area": null,
            "grid_auto_columns": null,
            "grid_auto_flow": null,
            "grid_auto_rows": null,
            "grid_column": null,
            "grid_gap": null,
            "grid_row": null,
            "grid_template_areas": null,
            "grid_template_columns": null,
            "grid_template_rows": null,
            "height": null,
            "justify_content": null,
            "justify_items": null,
            "left": null,
            "margin": null,
            "max_height": null,
            "max_width": null,
            "min_height": null,
            "min_width": null,
            "object_fit": null,
            "object_position": null,
            "order": null,
            "overflow": null,
            "overflow_x": null,
            "overflow_y": null,
            "padding": null,
            "right": null,
            "top": null,
            "visibility": null,
            "width": null
          }
        },
        "f06362d727ff4ec9b7d9af960ca772cf": {
          "model_module": "@jupyter-widgets/controls",
          "model_name": "DescriptionStyleModel",
          "model_module_version": "1.5.0",
          "state": {
            "_model_module": "@jupyter-widgets/controls",
            "_model_module_version": "1.5.0",
            "_model_name": "DescriptionStyleModel",
            "_view_count": null,
            "_view_module": "@jupyter-widgets/base",
            "_view_module_version": "1.2.0",
            "_view_name": "StyleView",
            "description_width": ""
          }
        }
      }
    }
  },
  "nbformat": 4,
  "nbformat_minor": 0
}